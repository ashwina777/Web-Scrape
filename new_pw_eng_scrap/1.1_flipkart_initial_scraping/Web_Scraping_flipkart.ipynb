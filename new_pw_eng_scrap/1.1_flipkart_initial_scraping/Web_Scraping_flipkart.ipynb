{
 "cells": [
  {
   "cell_type": "markdown",
   "id": "82ae7d07",
   "metadata": {},
   "source": [
    "# WEB Scrapper Project - flipkart"
   ]
  },
  {
   "cell_type": "code",
   "execution_count": 1,
   "id": "811e8eff-3091-44fb-920f-7372cdc9333c",
   "metadata": {},
   "outputs": [],
   "source": [
    "import requests\n",
    "from bs4 import BeautifulSoup as bs\n",
    "from urllib.request import urlopen\n",
    "import logging"
   ]
  },
  {
   "cell_type": "code",
   "execution_count": 2,
   "id": "4238e01e-a479-4081-8cde-e1d71304671b",
   "metadata": {},
   "outputs": [],
   "source": [
    "flipcart_url = \"https://www.flipkart.com/search?q=\" + \"tv\""
   ]
  },
  {
   "cell_type": "code",
   "execution_count": 3,
   "id": "453b19d4-d454-483b-8e0b-cfd4ba2262c2",
   "metadata": {},
   "outputs": [
    {
     "data": {
      "text/plain": [
       "'https://www.flipkart.com/search?q=tv'"
      ]
     },
     "execution_count": 3,
     "metadata": {},
     "output_type": "execute_result"
    }
   ],
   "source": [
    "flipcart_url"
   ]
  },
  {
   "cell_type": "code",
   "execution_count": null,
   "id": "cdeed42d-3b6d-47b1-980b-59ee8d715e05",
   "metadata": {},
   "outputs": [],
   "source": [
    "urlclient = urlopen(flipcart_url)"
   ]
  },
  {
   "cell_type": "code",
   "execution_count": 12,
   "id": "2e1c9fc0-1e8e-4e02-9dc7-a9d796fe3947",
   "metadata": {},
   "outputs": [],
   "source": [
    "flipcart_page = urlclient.read()"
   ]
  },
  {
   "cell_type": "code",
   "execution_count": 15,
   "id": "7051e647-b8e1-4a97-a8d0-8f8b9975191f",
   "metadata": {},
   "outputs": [],
   "source": [
    "flipcart_html = bs(flipcart_page , 'html.parser')"
   ]
  },
  {
   "cell_type": "code",
   "execution_count": 16,
   "id": "941157fd-b672-49e1-a745-ec2c65a35881",
   "metadata": {},
   "outputs": [
    {
     "data": {
      "text/plain": [
       "'https://www.flipkart.com/dyanora-sigma-108-cm-43-inch-full-hd-led-smart-linux-tv-40-watt-box-speakers-bezel-less-design/p/itmcdbced04b2319?pid=TVSGHZAGFYKGZQ8K&lid=LSTTVSGHZAGFYKGZQ8KUAM8H1&marketplace=FLIPKART&q=tv&store=ckf%2Fczl&srno=s_1_1&otracker=search&otracker1=search&fm=organic&iid=en_xF8tH%2FD493QWU9p74CMkRhAnl%2FZDSt2g4RX8asyXf547oHm6aKW0Vwig1Ae%2FF%2BxpMab4jOA70lzjnpWCWaM8Dw%3D%3D&ppt=sp&ppn=sp&ssid=6vokrwan280000001676982936780&qH=c9a1fdac6e082dd8'"
      ]
     },
     "execution_count": 16,
     "metadata": {},
     "output_type": "execute_result"
    }
   ],
   "source": [
    "\"https://www.flipkart.com\"+\"/dyanora-sigma-108-cm-43-inch-full-hd-led-smart-linux-tv-40-watt-box-speakers-bezel-less-design/p/itmcdbced04b2319?pid=TVSGHZAGFYKGZQ8K&lid=LSTTVSGHZAGFYKGZQ8KUAM8H1&marketplace=FLIPKART&q=tv&store=ckf%2Fczl&srno=s_1_1&otracker=search&otracker1=search&fm=organic&iid=en_xF8tH%2FD493QWU9p74CMkRhAnl%2FZDSt2g4RX8asyXf547oHm6aKW0Vwig1Ae%2FF%2BxpMab4jOA70lzjnpWCWaM8Dw%3D%3D&ppt=sp&ppn=sp&ssid=6vokrwan280000001676982936780&qH=c9a1fdac6e082dd8\""
   ]
  },
  {
   "cell_type": "code",
   "execution_count": 19,
   "id": "4b979d12-4f74-4777-b5b3-c48d254a3f93",
   "metadata": {},
   "outputs": [],
   "source": [
    "bigbox = flipcart_html.find_all(\"div\" ,{\"class\":\"_1AtVbE col-12-12\"} )"
   ]
  },
  {
   "cell_type": "code",
   "execution_count": null,
   "id": "1c696ac3-ad68-4ebe-a523-e5709d3601cc",
   "metadata": {},
   "outputs": [],
   "source": [
    "len(bigbox) # 30"
   ]
  },
  {
   "cell_type": "code",
   "execution_count": null,
   "id": "814dac9a-ecab-41be-9ace-a765e893b886",
   "metadata": {},
   "outputs": [],
   "source": [
    "del bigbox[0:3]"
   ]
  },
  {
   "cell_type": "code",
   "execution_count": 27,
   "id": "cbf4c815-94f9-499e-a6e3-b84a8e07ea8a",
   "metadata": {},
   "outputs": [],
   "source": [
    "productlink = \"https://www.flipkart.com\" + bigbox[0].div.div.div.a['href']"
   ]
  },
  {
   "cell_type": "code",
   "execution_count": 26,
   "id": "317673bb-67f5-48e6-81a4-a9d6f77e10c8",
   "metadata": {},
   "outputs": [
    {
     "name": "stdout",
     "output_type": "stream",
     "text": [
      "https://www.flipkart.com/dyanora-109-cm-43-inch-full-hd-led-smart-android-tv-noise-reduction-9-0-google-voice-assistant-powerful-audio-box-speakers/p/itm1f50f4332a1c5?pid=TVSGM2KA9VK6XDV6&lid=LSTTVSGM2KA9VK6XDV66C8HZA&marketplace=FLIPKART&q=tv&store=ckf%2Fczl&srno=s_1_2&otracker=search&fm=organic&iid=en_hrF3fbdnJR5OaXMgGXvQTTrjCinhzHVScDpFIsy0%2Bt5FlHI9KQQ42XSZGbPEo6KA%2FDF%2FDKzGJl9N1oeiVOK3Fg%3D%3D&ppt=None&ppn=None&ssid=qa6pr8f2kg0000001676982855392&qH=c9a1fdac6e082dd8\n",
      "https://www.flipkart.com/oneplus-y1-80-cm-32-inch-hd-ready-led-smart-android-tv-dolby-audio/p/itme650a6bb8cee3?pid=TVSFVWD2ENXYGEJY&lid=LSTTVSFVWD2ENXYGEJYBNWSST&marketplace=FLIPKART&q=tv&store=ckf%2Fczl&srno=s_1_3&otracker=search&fm=organic&iid=c2c409de-1037-4dd3-845e-d215da3f955b.TVSFVWD2ENXYGEJY.SEARCH&ppt=None&ppn=None&ssid=qa6pr8f2kg0000001676982855392&qH=c9a1fdac6e082dd8\n",
      "https://www.flipkart.com/samsung-80-cm-32-inch-hd-ready-led-smart-tizen-tv-2022-model/p/itm3c07ddc2dd25d?pid=TVSGHY2UZA9YHWQN&lid=LSTTVSGHY2UZA9YHWQNNQENTU&marketplace=FLIPKART&q=tv&store=ckf%2Fczl&spotlightTagId=BestsellerId_ckf%2Fczl&srno=s_1_4&otracker=search&fm=organic&iid=c2c409de-1037-4dd3-845e-d215da3f955b.TVSGHY2UZA9YHWQN.SEARCH&ppt=None&ppn=None&ssid=qa6pr8f2kg0000001676982855392&qH=c9a1fdac6e082dd8\n",
      "https://www.flipkart.com/mi-5a-80-cm-32-inch-hd-ready-led-smart-android-tv-dolby-audio-2022-model/p/itm98501ffa297ba?pid=TVSGD5CS2SDUUZGN&lid=LSTTVSGD5CS2SDUUZGNWGZUUA&marketplace=FLIPKART&q=tv&store=ckf%2Fczl&srno=s_1_5&otracker=search&fm=organic&iid=c2c409de-1037-4dd3-845e-d215da3f955b.TVSGD5CS2SDUUZGN.SEARCH&ppt=None&ppn=None&ssid=qa6pr8f2kg0000001676982855392&qH=c9a1fdac6e082dd8\n",
      "https://www.flipkart.com/oneplus-y1-100-cm-40-inch-full-hd-led-smart-android-tv-dolby-audio/p/itmdcbd9784403b2?pid=TVSG25MMGB8NKFD8&lid=LSTTVSG25MMGB8NKFD8BZ88HR&marketplace=FLIPKART&q=tv&store=ckf%2Fczl&srno=s_1_6&otracker=search&fm=organic&iid=c2c409de-1037-4dd3-845e-d215da3f955b.TVSG25MMGB8NKFD8.SEARCH&ppt=None&ppn=None&ssid=qa6pr8f2kg0000001676982855392&qH=c9a1fdac6e082dd8\n",
      "https://www.flipkart.com/samsung-crystal-4k-108-cm-43-inch-ultra-hd-4k-led-smart-tizen-tv/p/itm7dcfb3cc69fbb?pid=TVSG2CG7F2Y9YUJ3&lid=LSTTVSG2CG7F2Y9YUJ39FS3ZI&marketplace=FLIPKART&q=tv&store=ckf%2Fczl&srno=s_1_7&otracker=search&fm=organic&iid=c2c409de-1037-4dd3-845e-d215da3f955b.TVSG2CG7F2Y9YUJ3.SEARCH&ppt=None&ppn=None&ssid=qa6pr8f2kg0000001676982855392&qH=c9a1fdac6e082dd8\n",
      "https://www.flipkart.com/dyanora-sigma-80-cm-32-inch-hd-ready-led-smart-linux-tv-30-watt-box-speakers-bezel-less-design/p/itmb11e0580e0215?pid=TVSGHAEYVKZGGNGP&lid=LSTTVSGHAEYVKZGGNGPDXEJDG&marketplace=FLIPKART&q=tv&store=ckf%2Fczl&srno=s_1_8&otracker=search&fm=organic&iid=en_hrF3fbdnJR5OaXMgGXvQTTrjCinhzHVScDpFIsy0%2Bt6y86yYBNiX%2BWvblJL9rq%2F2wdbJC2GXrREHp7zGtS6vEQ%3D%3D&ppt=None&ppn=None&ssid=qa6pr8f2kg0000001676982855392&qH=c9a1fdac6e082dd8\n",
      "https://www.flipkart.com/oneplus-y1s-80-cm-32-inch-hd-ready-led-smart-android-tv-11-bezel-less-frame/p/itm0a39edd7df236?pid=TVSGAXEVXNG9YBUM&lid=LSTTVSGAXEVXNG9YBUMLGWYAS&marketplace=FLIPKART&q=tv&store=ckf%2Fczl&srno=s_1_9&otracker=search&fm=organic&iid=c2c409de-1037-4dd3-845e-d215da3f955b.TVSGAXEVXNG9YBUM.SEARCH&ppt=None&ppn=None&ssid=qa6pr8f2kg0000001676982855392&qH=c9a1fdac6e082dd8\n",
      "https://www.flipkart.com/thomson-alpha-80-cm-32-inch-hd-ready-led-smart-linux-tv-30-w-sound-output-bezel-less-design/p/itm0e90bcdadb9c9?pid=TVSGEMQV7R4CMTGA&lid=LSTTVSGEMQV7R4CMTGAN8OZ8J&marketplace=FLIPKART&q=tv&store=ckf%2Fczl&srno=s_1_10&otracker=search&fm=organic&iid=c2c409de-1037-4dd3-845e-d215da3f955b.TVSGEMQV7R4CMTGA.SEARCH&ppt=None&ppn=None&ssid=qa6pr8f2kg0000001676982855392&qH=c9a1fdac6e082dd8\n",
      "https://www.flipkart.com/oneplus-y1s-108-cm-43-inch-full-hd-led-smart-android-tv-11-bezel-less-frame/p/itm178846d2e1567?pid=TVSGAXEVSNT3HBQA&lid=LSTTVSGAXEVSNT3HBQAKRCYE0&marketplace=FLIPKART&q=tv&store=ckf%2Fczl&srno=s_1_11&otracker=search&fm=organic&iid=c2c409de-1037-4dd3-845e-d215da3f955b.TVSGAXEVSNT3HBQA.SEARCH&ppt=None&ppn=None&ssid=qa6pr8f2kg0000001676982855392&qH=c9a1fdac6e082dd8\n",
      "https://www.flipkart.com/dyanora-109-cm-43-inch-ultra-hd-4k-led-smart-webos-tv-hdr-10-micro-dimming-noise-reduction-dolby-surround-sound/p/itm2a56b4fff931b?pid=TVSGM2KA8HJCHM8K&lid=LSTTVSGM2KA8HJCHM8KQAGPUZ&marketplace=FLIPKART&q=tv&store=ckf%2Fczl&srno=s_1_12&otracker=search&fm=organic&iid=en_hrF3fbdnJR5OaXMgGXvQTTrjCinhzHVScDpFIsy0%2Bt7XFGVpmfk7oY%2FwUYEW2XY2jy80kkbuZp72%2FBOQELFxHA%3D%3D&ppt=None&ppn=None&ssid=qa6pr8f2kg0000001676982855392&qH=c9a1fdac6e082dd8\n",
      "https://www.flipkart.com/infinix-y1-80-cm-32-inch-hd-ready-led-smart-linux-tv-wall-mount/p/itme5476ca89d1b0?pid=TVSGFGF34GMTB9KF&lid=LSTTVSGFGF34GMTB9KFF9JZPY&marketplace=FLIPKART&q=tv&store=ckf%2Fczl&srno=s_1_13&otracker=search&fm=organic&iid=c2c409de-1037-4dd3-845e-d215da3f955b.TVSGFGF34GMTB9KF.SEARCH&ppt=None&ppn=None&ssid=qa6pr8f2kg0000001676982855392&qH=c9a1fdac6e082dd8\n",
      "https://www.flipkart.com/samsung-crystal-4k-neo-series-108-cm-43-inch-ultra-hd-4k-led-smart-tizen-tv-black-2022-model/p/itma076c4dd16aa4?pid=TVSGEAGP9GXWCHCX&lid=LSTTVSGEAGP9GXWCHCXSVNDV5&marketplace=FLIPKART&q=tv&store=ckf%2Fczl&srno=s_1_14&otracker=search&fm=organic&iid=c2c409de-1037-4dd3-845e-d215da3f955b.TVSGEAGP9GXWCHCX.SEARCH&ppt=None&ppn=None&ssid=qa6pr8f2kg0000001676982855392&qH=c9a1fdac6e082dd8\n",
      "https://www.flipkart.com/lg-80-cm-32-inch-hd-ready-led-smart-webos-tv/p/itm6207e6d122567?pid=TVSFTW4CSRW8PGDQ&lid=LSTTVSFTW4CSRW8PGDQSZQIO6&marketplace=FLIPKART&q=tv&store=ckf%2Fczl&srno=s_1_15&otracker=search&fm=organic&iid=c2c409de-1037-4dd3-845e-d215da3f955b.TVSFTW4CSRW8PGDQ.SEARCH&ppt=None&ppn=None&ssid=qa6pr8f2kg0000001676982855392&qH=c9a1fdac6e082dd8\n",
      "https://www.flipkart.com/dyanora-108-cm-43-inch-full-hd-led-smart-android-based-tv-noise-reduction-9-0-google-voice-assistant-powerful-audio-box-speakers/p/itm84355467866a2?pid=TVSGM2KAZSF3ARR8&lid=LSTTVSGM2KAZSF3ARR8NVNBMO&marketplace=FLIPKART&q=tv&store=ckf%2Fczl&srno=s_1_16&otracker=search&fm=organic&iid=en_hrF3fbdnJR5OaXMgGXvQTTrjCinhzHVScDpFIsy0%2Bt7%2B5k47Kx37vb1hZVe2hUb7M4gwahP74BTI5fOYZDtcDQ%3D%3D&ppt=None&ppn=None&ssid=qa6pr8f2kg0000001676982855392&qH=c9a1fdac6e082dd8\n",
      "https://www.flipkart.com/mi-5a-100-cm-40-inch-full-hd-led-smart-android-tv-dolby-audio-2022-model/p/itm6be60be56f52d?pid=TVSGD5CS4N7NWFZD&lid=LSTTVSGD5CS4N7NWFZDDJBZRI&marketplace=FLIPKART&q=tv&store=ckf%2Fczl&srno=s_1_17&otracker=search&fm=organic&iid=c2c409de-1037-4dd3-845e-d215da3f955b.TVSGD5CS4N7NWFZD.SEARCH&ppt=None&ppn=None&ssid=qa6pr8f2kg0000001676982855392&qH=c9a1fdac6e082dd8\n",
      "https://www.flipkart.com/vu-gloled-108-cm-43-inch-ultra-hd-4k-led-smart-google-tv-dj-subwoofer-84w/p/itm65f2925757d94?pid=TVSGJKC9TUSZ2DHS&lid=LSTTVSGJKC9TUSZ2DHSYRCHBF&marketplace=FLIPKART&q=tv&store=ckf%2Fczl&srno=s_1_18&otracker=search&fm=organic&iid=c2c409de-1037-4dd3-845e-d215da3f955b.TVSGJKC9TUSZ2DHS.SEARCH&ppt=None&ppn=None&ssid=qa6pr8f2kg0000001676982855392&qH=c9a1fdac6e082dd8\n",
      "https://www.flipkart.com/oneplus-y1s-pro-138-cm-55-inch-ultra-hd-4k-led-smart-android-tv/p/itm5db9783099cbb?pid=TVSGJUFY5QMMWSU7&lid=LSTTVSGJUFY5QMMWSU7V52T1B&marketplace=FLIPKART&q=tv&store=ckf%2Fczl&srno=s_1_19&otracker=search&fm=organic&iid=c2c409de-1037-4dd3-845e-d215da3f955b.TVSGJUFY5QMMWSU7.SEARCH&ppt=None&ppn=None&ssid=qa6pr8f2kg0000001676982855392&qH=c9a1fdac6e082dd8\n",
      "https://www.flipkart.com/sens-80-cm-32-inch-hd-ready-led-smart-linux-tv-dolby-audio/p/itm42bfcb2db2495?pid=TVSGHY2BCKSKB5QF&lid=LSTTVSGHY2BCKSKB5QFJ7HUWT&marketplace=FLIPKART&q=tv&store=ckf%2Fczl&srno=s_1_20&otracker=search&fm=organic&iid=c2c409de-1037-4dd3-845e-d215da3f955b.TVSGHY2BCKSKB5QF.SEARCH&ppt=None&ppn=None&ssid=qa6pr8f2kg0000001676982855392&qH=c9a1fdac6e082dd8\n",
      "https://www.flipkart.com/mi-x-series-138-cm-55-inch-ultra-hd-4k-led-smart-android-tv-dolby-vision-30w-audio-2022-model/p/itmd4ff31740dc25?pid=TVSGHEQVHEBXABCQ&lid=LSTTVSGHEQVHEBXABCQXB4RD9&marketplace=FLIPKART&q=tv&store=ckf%2Fczl&srno=s_1_21&otracker=search&fm=organic&iid=c2c409de-1037-4dd3-845e-d215da3f955b.TVSGHEQVHEBXABCQ.SEARCH&ppt=None&ppn=None&ssid=qa6pr8f2kg0000001676982855392&qH=c9a1fdac6e082dd8\n",
      "https://www.flipkart.com/iffalcon-tcl-f53-79-97-cm-32-inch-hd-ready-led-smart-android-tv-11/p/itmf4e9c6c14ccb0?pid=TVSGCYVJPAJMHGUW&lid=LSTTVSGCYVJPAJMHGUWTE92JA&marketplace=FLIPKART&q=tv&store=ckf%2Fczl&srno=s_1_22&otracker=search&fm=organic&iid=c2c409de-1037-4dd3-845e-d215da3f955b.TVSGCYVJPAJMHGUW.SEARCH&ppt=None&ppn=None&ssid=qa6pr8f2kg0000001676982855392&qH=c9a1fdac6e082dd8\n",
      "https://www.flipkart.com/mi-x-series-108-cm-43-inch-ultra-hd-4k-led-smart-android-tv-dolby-vision-30w-audio-2022-model/p/itm39b39b602f81a?pid=TVSGHEQVGZVTSEBT&lid=LSTTVSGHEQVGZVTSEBT6BSNVA&marketplace=FLIPKART&q=tv&store=ckf%2Fczl&srno=s_1_23&otracker=search&fm=organic&iid=c2c409de-1037-4dd3-845e-d215da3f955b.TVSGHEQVGZVTSEBT.SEARCH&ppt=None&ppn=None&ssid=qa6pr8f2kg0000001676982855392&qH=c9a1fdac6e082dd8\n",
      "https://www.flipkart.com/mi-5a-108-cm-43-inch-full-hd-led-smart-android-tv-dolby-audio-2022-model/p/itm2d5967449cb9b?pid=TVSGD5CS3CXNF2DF&lid=LSTTVSGD5CS3CXNF2DFPJ6HSF&marketplace=FLIPKART&q=tv&store=ckf%2Fczl&srno=s_1_24&otracker=search&fm=organic&iid=c2c409de-1037-4dd3-845e-d215da3f955b.TVSGD5CS3CXNF2DF.SEARCH&ppt=None&ppn=None&ssid=qa6pr8f2kg0000001676982855392&qH=c9a1fdac6e082dd8\n"
     ]
    },
    {
     "ename": "AttributeError",
     "evalue": "'NoneType' object has no attribute 'a'",
     "output_type": "error",
     "traceback": [
      "\u001b[0;31m---------------------------------------------------------------------------\u001b[0m",
      "\u001b[0;31mAttributeError\u001b[0m                            Traceback (most recent call last)",
      "Cell \u001b[0;32mIn[26], line 2\u001b[0m\n\u001b[1;32m      1\u001b[0m \u001b[38;5;28;01mfor\u001b[39;00m i \u001b[38;5;129;01min\u001b[39;00m bigbox:\n\u001b[0;32m----> 2\u001b[0m     \u001b[38;5;28mprint\u001b[39m(\u001b[38;5;124m\"\u001b[39m\u001b[38;5;124mhttps://www.flipkart.com\u001b[39m\u001b[38;5;124m\"\u001b[39m \u001b[38;5;241m+\u001b[39m \u001b[43mi\u001b[49m\u001b[38;5;241;43m.\u001b[39;49m\u001b[43mdiv\u001b[49m\u001b[38;5;241;43m.\u001b[39;49m\u001b[43mdiv\u001b[49m\u001b[38;5;241;43m.\u001b[39;49m\u001b[43mdiv\u001b[49m\u001b[38;5;241;43m.\u001b[39;49m\u001b[43ma\u001b[49m[\u001b[38;5;124m'\u001b[39m\u001b[38;5;124mhref\u001b[39m\u001b[38;5;124m'\u001b[39m])\n",
      "\u001b[0;31mAttributeError\u001b[0m: 'NoneType' object has no attribute 'a'"
     ]
    }
   ],
   "source": [
    "for i in bigbox:\n",
    "    print(\"https://www.flipkart.com\" + i.div.div.div.a['href'])\n",
    "    "
   ]
  },
  {
   "cell_type": "code",
   "execution_count": 28,
   "id": "121e467f-4b56-419d-a508-7b1056454983",
   "metadata": {},
   "outputs": [
    {
     "data": {
      "text/plain": [
       "'https://www.flipkart.com/dyanora-109-cm-43-inch-full-hd-led-smart-android-tv-noise-reduction-9-0-google-voice-assistant-powerful-audio-box-speakers/p/itm1f50f4332a1c5?pid=TVSGM2KA9VK6XDV6&lid=LSTTVSGM2KA9VK6XDV66C8HZA&marketplace=FLIPKART&q=tv&store=ckf%2Fczl&srno=s_1_2&otracker=search&fm=organic&iid=en_hrF3fbdnJR5OaXMgGXvQTTrjCinhzHVScDpFIsy0%2Bt5FlHI9KQQ42XSZGbPEo6KA%2FDF%2FDKzGJl9N1oeiVOK3Fg%3D%3D&ppt=None&ppn=None&ssid=qa6pr8f2kg0000001676982855392&qH=c9a1fdac6e082dd8'"
      ]
     },
     "execution_count": 28,
     "metadata": {},
     "output_type": "execute_result"
    }
   ],
   "source": [
    "productlink"
   ]
  },
  {
   "cell_type": "code",
   "execution_count": 30,
   "id": "a40d855a-a389-4f6f-abad-3e15ff7713e4",
   "metadata": {},
   "outputs": [],
   "source": [
    "procuct_req = requests.get(productlink)"
   ]
  },
  {
   "cell_type": "code",
   "execution_count": 34,
   "id": "ae33159d-186e-4f6f-b4cb-e1565f0186bf",
   "metadata": {},
   "outputs": [],
   "source": [
    "product_html = bs(procuct_req.text,'html.parser')"
   ]
  },
  {
   "cell_type": "code",
   "execution_count": 38,
   "id": "32d59cba-4388-4a3f-9baa-498efed56148",
   "metadata": {},
   "outputs": [],
   "source": [
    "coment_box = product_html.find_all(\"div\",{\"class\":\"_16PBlm\"})"
   ]
  },
  {
   "cell_type": "code",
   "execution_count": 39,
   "id": "424914bb-a86a-4f8b-862f-e6faf0ab1019",
   "metadata": {},
   "outputs": [
    {
     "data": {
      "text/plain": [
       "11"
      ]
     },
     "execution_count": 39,
     "metadata": {},
     "output_type": "execute_result"
    }
   ],
   "source": [
    "len(coment_box)"
   ]
  },
  {
   "cell_type": "code",
   "execution_count": 44,
   "id": "adfa3e5f-48c6-46f7-9f38-ac7b2675d949",
   "metadata": {},
   "outputs": [
    {
     "data": {
      "text/plain": [
       "'AMIT SAVITA'"
      ]
     },
     "execution_count": 44,
     "metadata": {},
     "output_type": "execute_result"
    }
   ],
   "source": [
    "coment_box[0].div.div.find_all(\"p\",{\"class\":\"_2sc7ZR _2V5EHH\"})[0].text"
   ]
  },
  {
   "cell_type": "code",
   "execution_count": 45,
   "id": "b8539076-6191-47f1-b3fa-527967bf304a",
   "metadata": {},
   "outputs": [
    {
     "name": "stdout",
     "output_type": "stream",
     "text": [
      "AMIT SAVITA\n",
      "BAPI BANERJEE\n",
      "Ashok kumar S\n",
      "\n",
      "Akram Khan\n",
      "Yatendra Singh\n",
      "sundar\n",
      "Ram Ratan  Singh\n",
      "Ajit  Naik\n",
      "Manne Kishore\n"
     ]
    },
    {
     "ename": "AttributeError",
     "evalue": "'NoneType' object has no attribute 'div'",
     "output_type": "error",
     "traceback": [
      "\u001b[0;31m---------------------------------------------------------------------------\u001b[0m",
      "\u001b[0;31mAttributeError\u001b[0m                            Traceback (most recent call last)",
      "Cell \u001b[0;32mIn[45], line 2\u001b[0m\n\u001b[1;32m      1\u001b[0m \u001b[38;5;28;01mfor\u001b[39;00m i \u001b[38;5;129;01min\u001b[39;00m coment_box:\n\u001b[0;32m----> 2\u001b[0m     \u001b[38;5;28mprint\u001b[39m(\u001b[43mi\u001b[49m\u001b[38;5;241;43m.\u001b[39;49m\u001b[43mdiv\u001b[49m\u001b[38;5;241;43m.\u001b[39;49m\u001b[43mdiv\u001b[49m\u001b[38;5;241m.\u001b[39mfind_all(\u001b[38;5;124m\"\u001b[39m\u001b[38;5;124mp\u001b[39m\u001b[38;5;124m\"\u001b[39m,{\u001b[38;5;124m\"\u001b[39m\u001b[38;5;124mclass\u001b[39m\u001b[38;5;124m\"\u001b[39m:\u001b[38;5;124m\"\u001b[39m\u001b[38;5;124m_2sc7ZR _2V5EHH\u001b[39m\u001b[38;5;124m\"\u001b[39m})[\u001b[38;5;241m0\u001b[39m]\u001b[38;5;241m.\u001b[39mtext)\n",
      "\u001b[0;31mAttributeError\u001b[0m: 'NoneType' object has no attribute 'div'"
     ]
    }
   ],
   "source": [
    "for i in coment_box:\n",
    "    print(i.div.div.find_all(\"p\",{\"class\":\"_2sc7ZR _2V5EHH\"})[0].text)"
   ]
  },
  {
   "cell_type": "code",
   "execution_count": 48,
   "id": "7d42338a-9d11-448a-866f-3d098090fee4",
   "metadata": {},
   "outputs": [
    {
     "name": "stdout",
     "output_type": "stream",
     "text": [
      "4\n",
      "5\n",
      "5\n",
      "5\n",
      "1\n",
      "5\n",
      "5\n",
      "4\n",
      "5\n",
      "4\n"
     ]
    },
    {
     "ename": "AttributeError",
     "evalue": "'NoneType' object has no attribute 'div'",
     "output_type": "error",
     "traceback": [
      "\u001b[0;31m---------------------------------------------------------------------------\u001b[0m",
      "\u001b[0;31mAttributeError\u001b[0m                            Traceback (most recent call last)",
      "Cell \u001b[0;32mIn[48], line 2\u001b[0m\n\u001b[1;32m      1\u001b[0m \u001b[38;5;28;01mfor\u001b[39;00m i \u001b[38;5;129;01min\u001b[39;00m coment_box:\n\u001b[0;32m----> 2\u001b[0m     \u001b[38;5;28mprint\u001b[39m(\u001b[43mi\u001b[49m\u001b[38;5;241;43m.\u001b[39;49m\u001b[43mdiv\u001b[49m\u001b[38;5;241;43m.\u001b[39;49m\u001b[43mdiv\u001b[49m\u001b[38;5;241m.\u001b[39mdiv\u001b[38;5;241m.\u001b[39mdiv\u001b[38;5;241m.\u001b[39mtext)\n",
      "\u001b[0;31mAttributeError\u001b[0m: 'NoneType' object has no attribute 'div'"
     ]
    }
   ],
   "source": [
    "for i in coment_box:\n",
    "    print(i.div.div.div.div.text)"
   ]
  },
  {
   "cell_type": "code",
   "execution_count": 51,
   "id": "d605e39b-1e78-410f-a81f-c398acd9a9ef",
   "metadata": {},
   "outputs": [
    {
     "data": {
      "text/plain": [
       "'Very Good'"
      ]
     },
     "execution_count": 51,
     "metadata": {},
     "output_type": "execute_result"
    }
   ],
   "source": [
    "coment_box[0].div.div.div.p.text\n"
   ]
  },
  {
   "cell_type": "code",
   "execution_count": 52,
   "id": "97181efc-5bd5-4998-ab35-7512f82af7ae",
   "metadata": {},
   "outputs": [
    {
     "name": "stdout",
     "output_type": "stream",
     "text": [
      "Very Good\n",
      "Fabulous!\n",
      "Mind-blowing purchase\n",
      "Awesome\n",
      "Terrible product\n",
      "Fabulous!\n",
      "Worth every penny\n",
      "Pretty good\n",
      "Terrific purchase\n",
      "Delightful\n"
     ]
    },
    {
     "ename": "AttributeError",
     "evalue": "'NoneType' object has no attribute 'div'",
     "output_type": "error",
     "traceback": [
      "\u001b[0;31m---------------------------------------------------------------------------\u001b[0m",
      "\u001b[0;31mAttributeError\u001b[0m                            Traceback (most recent call last)",
      "Cell \u001b[0;32mIn[52], line 2\u001b[0m\n\u001b[1;32m      1\u001b[0m \u001b[38;5;28;01mfor\u001b[39;00m i \u001b[38;5;129;01min\u001b[39;00m coment_box:\n\u001b[0;32m----> 2\u001b[0m     \u001b[38;5;28mprint\u001b[39m(\u001b[43mi\u001b[49m\u001b[38;5;241;43m.\u001b[39;49m\u001b[43mdiv\u001b[49m\u001b[38;5;241;43m.\u001b[39;49m\u001b[43mdiv\u001b[49m\u001b[38;5;241m.\u001b[39mdiv\u001b[38;5;241m.\u001b[39mp\u001b[38;5;241m.\u001b[39mtext )\n",
      "\u001b[0;31mAttributeError\u001b[0m: 'NoneType' object has no attribute 'div'"
     ]
    }
   ],
   "source": [
    "for i in coment_box:\n",
    "    print(i.div.div.div.p.text )"
   ]
  },
  {
   "cell_type": "code",
   "execution_count": 57,
   "id": "7e899af2-c04e-4c9e-952b-c319d77f84fc",
   "metadata": {},
   "outputs": [
    {
     "data": {
      "text/plain": [
       "'You are going to love this Tv because at this price range it is almost a complete package(does not have Bluetooth connectivity) but picture mode option should be improve a little bit (not talking about picture quality because it is very clear) because it is not as good as it should be and so is sound mode option (not talking about sound quality that is so fine)!Overall it is working pretty smooth & fine and you may go for it without any doubt..READ MORE'"
      ]
     },
     "execution_count": 57,
     "metadata": {},
     "output_type": "execute_result"
    }
   ],
   "source": [
    "coment_box[0].div.div.find_all(\"div\",{\"class\":\"\"})[0].text\n"
   ]
  },
  {
   "cell_type": "code",
   "execution_count": 59,
   "id": "737a2b0d-4508-4f1d-922e-51c6297f0718",
   "metadata": {},
   "outputs": [
    {
     "name": "stdout",
     "output_type": "stream",
     "text": [
      "You are going to love this Tv because at this price range it is almost a complete package(does not have Bluetooth connectivity) but picture mode option should be improve a little bit (not talking about picture quality because it is very clear) because it is not as good as it should be and so is sound mode option (not talking about sound quality that is so fine)!Overall it is working pretty smooth & fine and you may go for it without any doubt..READ MORE\n",
      "GoodFinally Dyanora pure Indian television company provides all thing in TVBefore this I was used many television brands including brand leader. 1. Firstly this Dyanora gives very good and clear picture with 400000:1 image contrast ratio it is really good and fits with HD and non HD setop box. In Remote eye safe option. Also their is picture mode like standard, vivid, sport, movie, game, energy saving also user this user help for yours choice. In video mode advance video option are their....READ MORE\n",
      "Awesome and Great Product:We are happy to see Dyanora back on TV production, our new smart Dyanora TV is great and awesome on picture quality, sound, app, connectivity and installation.The price is relatively low comparing to the other brands with all these features.We are really happy with this good product :-)Thanks to Dyanora and Flipkart.READ MORE\n",
      "Under this budget 32 inch smart tv is value for money...picture and sound quality is perfect and the person who came for the installation is also very polite and gentelREAD MORE\n",
      "Very poor customer service. No response on calls, no replies of emails. The remote stopped working within one month of purchase and no replacement provided even after repeated calls and emails. Without the remote the tv is useless. avoid buying such brandsREAD MORE\n",
      "Very very good productREAD MORE\n",
      "Excellent TV with Android, wifi, Miracast, 2 hdmi it's a steak deal and value for moneyREAD MORE\n",
      "Best qualityREAD MORE\n",
      "OkREAD MORE\n",
      "Good product in this rate.READ MORE\n"
     ]
    },
    {
     "ename": "AttributeError",
     "evalue": "'NoneType' object has no attribute 'div'",
     "output_type": "error",
     "traceback": [
      "\u001b[0;31m---------------------------------------------------------------------------\u001b[0m",
      "\u001b[0;31mAttributeError\u001b[0m                            Traceback (most recent call last)",
      "Cell \u001b[0;32mIn[59], line 2\u001b[0m\n\u001b[1;32m      1\u001b[0m \u001b[38;5;28;01mfor\u001b[39;00m i \u001b[38;5;129;01min\u001b[39;00m coment_box:\n\u001b[0;32m----> 2\u001b[0m     \u001b[38;5;28mprint\u001b[39m(\u001b[43mi\u001b[49m\u001b[38;5;241;43m.\u001b[39;49m\u001b[43mdiv\u001b[49m\u001b[38;5;241;43m.\u001b[39;49m\u001b[43mdiv\u001b[49m\u001b[38;5;241m.\u001b[39mfind_all(\u001b[38;5;124m\"\u001b[39m\u001b[38;5;124mdiv\u001b[39m\u001b[38;5;124m\"\u001b[39m,{\u001b[38;5;124m\"\u001b[39m\u001b[38;5;124mclass\u001b[39m\u001b[38;5;124m\"\u001b[39m:\u001b[38;5;124m\"\u001b[39m\u001b[38;5;124m\"\u001b[39m})[\u001b[38;5;241m0\u001b[39m]\u001b[38;5;241m.\u001b[39mtext)\n",
      "\u001b[0;31mAttributeError\u001b[0m: 'NoneType' object has no attribute 'div'"
     ]
    }
   ],
   "source": [
    "for i in coment_box:\n",
    "    print(i.div.div.find_all(\"div\",{\"class\":\"\"})[0].text)"
   ]
  },
  {
   "cell_type": "markdown",
   "id": "622ac1d9",
   "metadata": {},
   "source": [
    "`Important Note`\n",
    "## Why the Initial Approach Failed\n",
    "In the initial attempts, the following command was used to find the review containers:\n",
    "```python\n",
    "BigBox = flipkart_html.find_all(\"div\", {\"class\": \"_1AtVbE col-12-12\"})\n",
    "```\n",
    "This approach worked well initially, allowing for the extraction of product reviews. However, over time, the Flipkart website implemented additional security measures, resulting in an \"Access Forbidden\" response when trying to scrape data directly from the page source using requests. This change was likely due to the website's efforts to prevent automated scraping and protect their content.\n",
    "\n",
    "# Transition to Selenium\n",
    "\n",
    "To address these challenges, we transitioned to using the Selenium library.This approach allowed us to bypass the security measures and successfully scrape the data. This powerful tool automates web browsers, allowing us to interact with web pages as a human user would. By launching a browser instance, Selenium enables us to bypass the security restrictions imposed by Flipkart's website.\n",
    "\n",
    "## Steps for Implementation\n",
    "\n",
    "### Install Selenium\n",
    "Ensure you have the Selenium library installed in your Python environment. You can do this using pip:\n",
    "\n",
    "```bash\n",
    "pip install selenium\n",
    "```\n",
    "\n",
    "Including the Selenium library in the project required additional setup,i.e. the installation of the Selenium library and the WebDriver for the browser being used(here, ChromeDriver was used). The WebDriver acts as a bridge between the Selenium library and the browser, allowing the library to interact with the browser and automate tasks such as opening URLs, clicking buttons, and extracting data.\n",
    "## Set Up WebDriver\n",
    "\n",
    "For Selenium to control a browser, a WebDriver is required. In this case, we used ChromeDriver for Google Chrome. Follow these steps to set it up:\n",
    "\n",
    "1. **Download the ChromeDriver** executable that matches your version of Chrome.\n",
    "2. **Place it in a directory** included in your system's PATH or specify its location in your script.\n",
    "\n",
    "### Additional Setup for WebDriver\n",
    "\n",
    "- **Environment Variables:** If you prefer not to specify the path in your script, you can set environment variables on your operating system. This allows Selenium to automatically detect the ChromeDriver path when initializing.\n",
    "- **Headless Mode:** If you want to run tests without opening a browser window (headless mode), you can add this option:\n",
    "\n",
    "```python\n",
    "options.add_argument(\"--headless\")\n",
    "```\n"
   ]
  },
  {
   "cell_type": "code",
   "execution_count": 7,
   "id": "920ea651-6489-4e32-8900-e3e4b3c05794",
   "metadata": {},
   "outputs": [],
   "source": [
    "# including all the necessary libraries\n",
    "import requests\n",
    "from bs4 import BeautifulSoup as bs\n",
    "from urllib.request import urlopen\n",
    "import logging "
   ]
  },
  {
   "cell_type": "code",
   "execution_count": 8,
   "id": "bb2c1fc2",
   "metadata": {},
   "outputs": [],
   "source": [
    "# search query/string\n",
    "flipkart_url = \"https://www.flipkart.com/search?q=\" + \"tv\""
   ]
  },
  {
   "cell_type": "code",
   "execution_count": 9,
   "id": "13a520c4",
   "metadata": {},
   "outputs": [
    {
     "data": {
      "text/plain": [
       "'https://www.flipkart.com/search?q=tv'"
      ]
     },
     "execution_count": 9,
     "metadata": {},
     "output_type": "execute_result"
    }
   ],
   "source": [
    "flipkart_url"
   ]
  },
  {
   "cell_type": "code",
   "execution_count": 10,
   "id": "5dcbeaca",
   "metadata": {},
   "outputs": [
    {
     "data": {
      "text/plain": [
       "'https://flipkart.com/samsung-80-cm-32-inch-hd-ready-led-smart-tizen-tv-bezel-free-design-300-free-channels-purcolor-hyper-real-picture-engine-triple-protection-smartthings-app-support-key-connect-share-hdd-connectshare-usb-2-0/p/itm92cc6d1b1d007?pid=TVSGHY2UZA9YHWQN&lid=LSTTVSGHY2UZA9YHWQNCPAW6M&marketplace=FLIPKART&q=tv&store=ckf%2Fczl&spotlightTagId=BestsellerId_ckf%2Fczl&srno=s_1_3&otracker=search&otracker1=search&fm=Search&iid=2f97b54b-1e05-418f-af63-e63b6bb00cd9.TVSGHY2UZA9YHWQN.SEARCH&ppt=sp&ppn=sp&ssid=ejtj3q2row0000001727869628782&qH=c9a1fdac6e082dd8'"
      ]
     },
     "execution_count": 10,
     "metadata": {},
     "output_type": "execute_result"
    }
   ],
   "source": [
    "\"https://flipkart.com\"+\"/samsung-80-cm-32-inch-hd-ready-led-smart-tizen-tv-bezel-free-design-300-free-channels-purcolor-hyper-real-picture-engine-triple-protection-smartthings-app-support-key-connect-share-hdd-connectshare-usb-2-0/p/itm92cc6d1b1d007?pid=TVSGHY2UZA9YHWQN&lid=LSTTVSGHY2UZA9YHWQNCPAW6M&marketplace=FLIPKART&q=tv&store=ckf%2Fczl&spotlightTagId=BestsellerId_ckf%2Fczl&srno=s_1_3&otracker=search&otracker1=search&fm=Search&iid=2f97b54b-1e05-418f-af63-e63b6bb00cd9.TVSGHY2UZA9YHWQN.SEARCH&ppt=sp&ppn=sp&ssid=ejtj3q2row0000001727869628782&qH=c9a1fdac6e082dd8\""
   ]
  },
  {
   "cell_type": "code",
   "execution_count": 11,
   "id": "991ae96f",
   "metadata": {},
   "outputs": [],
   "source": [
    "# here our objective is to scrap the reviews of the product\n",
    "# so we will first scrap the link of the product which is as follows:"
   ]
  },
  {
   "cell_type": "code",
   "execution_count": 12,
   "id": "ce8b7e89",
   "metadata": {},
   "outputs": [
    {
     "name": "stdout",
     "output_type": "stream",
     "text": [
      "FiltersCATEGORIESHome EntertainmentTelevisionsPrice.......Min₹15000₹30000₹40000₹50000₹60000to₹15000₹30000₹40000₹50000₹60000₹60000+?BrandSONYLGSAMSUNGMiTCLHisense76 MOREScreen SizeIdeal for Viewing DistanceResolutionSCREEN TYPEOperating SystemConnectivity FeaturesNumber of HDMI PortsNumber of USB PortsCustomer Ratings4★ & above3★ & above2★ & above1★ & aboveOffersBuy More, Save MoreSpecial PriceGST Invoice AvailableDiscountAvailabilityRefresh RateTheme\n",
      "Need help?Help me decide\n",
      "Add to CompareTCL V6B 108 cm (43 inch) Ultra HD (4K) LED Smart Google TV 2024 Edition with 24W Dolby Audio and Metal...4.116,139 Ratings & 1,487 ReviewsOperating System: Google TVUltra HD (4K) 3840 x 2160 PixelsLaunch Year: 20242 Years Warranty on Product₹21,990₹52,99058% offFree deliveryLowest price since launchUpto ₹3,100 Off on Exchange\n",
      "Add to CompareThomson Phoenix 80 cm (32 inch) QLED HD Ready Smart Android TV 48W Sound Output4.519,150 Ratings & 3,662 ReviewsOperating System: AndroidHD Ready 1366x768 PixelsLaunch Year: 20241 Year Warranty on Product & 6 Months Warranty on Accessories₹9,499₹19,99952% offFree deliveryLowest price since launchUpto ₹3,100 Off on Exchange\n",
      "Add to CompareSAMSUNG 80 cm (32 Inch) HD Ready LED Smart Tizen TV with Bezel-Free Design | 300+ Free Channels | PurC...4.41,39,174 Ratings & 10,596 ReviewsOperating System: TizenHD Ready 1366 x 768 PixelsLaunch Year: 20221 Year Comprehensive Warranty on Product and 1 Year Additional on Panel₹12,490₹18,90033% offFree deliveryTop Discount of the SaleBank Offer\n",
      "Add to CompareMi by Xiaomi A Series 80 cm (32 inch) HD Ready LED Smart Google TV 2024 Edition with 200+ Free Channel...4.31,58,983 Ratings & 12,619 ReviewsOperating System: Google TVHD Ready 1366 x 768 PixelsLaunch Year: 20241 Year Warranty on Product and 1 Year Additional Warranty on Panel₹11,490₹24,99954% offFree deliveryTop Discount of the SaleBank Offer\n",
      "Add to CompareTCL V6B 139 cm (55 inch) Ultra HD (4K) LED Smart Google TV 2024 Edition with 24W Dolby Audio and Metal...4.116,139 Ratings & 1,487 ReviewsOperating System: Google TVUltra HD (4K) 3840 x 2160 PixelsLaunch Year: 20242 Years Warranty on Product₹29,990₹77,99061% offFree deliveryLowest price since launchUpto ₹5,600 Off on Exchange\n",
      "Add to CompareTCL V6B 164 cm (65 inch) Ultra HD (4K) LED Smart Google TV 2024 Edition with 24W Dolby Audio and Metal...4.116,139 Ratings & 1,487 ReviewsOperating System: Google TVUltra HD (4K) 3840 x 2160 PixelsLaunch Year: 20242 Years Warranty on Product₹46,990₹1,24,99062% offFree deliverySaver DealUpto ₹6,100 Off on Exchange\n",
      "Add to CompareTCL L4B 79.97 cm (32 inch) HD Ready LED Smart Android TV 2024 Edition with Metallic Bezel Less and Chr...4.116,139 Ratings & 1,487 ReviewsOperating System: AndroidHD Ready 1366 x 768 PixelsLaunch Year: 20241 Year Warranty₹9,499₹20,99054% offFree deliveryTop Discount of the SaleBank Offer\n",
      "Add to CompareLG 32LMBPTC 80 cm (32 inch) HD Ready LED Smart WebOS TV with Quad Core Processor, Active HDR, 60 Hz Re...4.317,107 Ratings & 1,233 ReviewsOperating System: WebOSHD Ready 1366 x 768 PixelsLaunch Year: 20201 Year Product Warranty Applicable₹12,990₹24,99048% offFree deliveryTop Discount of the SaleBank Offer\n",
      "Add to CompareSAMSUNG New D Series Brighter Crystal 4K Vision Pro (2024 Edition) 108 cm (43 inch) Ultra HD (4K) LED ...4.328,371 Ratings & 2,474 ReviewsOperating System: TizenUltra HD (4K) 3840 x 2160 PixelsLaunch Year: 20242 Year Warranty (1 Year Standard Warranty + 1 Year additional warranty on Panel)₹29,490₹46,90037% offFree deliveryTop Discount of the SaleUpto ₹5,100 Off on Exchange\n",
      "Add to CompareInfinix 81 cm (32 inch) HD Ready LED Smart Linux TV 2024 Edition4.245,662 Ratings & 4,943 ReviewsOperating System: LinuxHD Ready 1366 x 768 PixelsLaunch Year: 20241 Year Warranty on Product₹8,099₹16,99952% offFree deliveryTop Discount of the SaleBank Offer\n",
      "Add to CompareMi by Xiaomi A Series 108 cm (43 inch) Full HD LED Smart Google TV 2024 Edition with 200+ Free Channel...4.31,58,983 Ratings & 12,619 ReviewsOperating System: Google TVFull HD 1920 x 1080 PixelsLaunch Year: 20241 year comprehensive warranty on product and 1 year additional on Panel provided by the brand from the date of purchase₹21,999₹35,99938% offFree deliveryTop Discount of the SaleUpto ₹3,100 Off on Exchange\n",
      "Add to CompareThomson FA Series 100 cm (40 inch) Full HD LED Smart Android TV with Dolby Digital Plus & Android 114.31,18,081 Ratings & 21,227 ReviewsOperating System: AndroidFull HD 1080 x 1920 PixelsLaunch Year: 20231 Year Warranty on Product and 6 Months Warranty on Accessories₹13,249₹26,99950% offFree deliverySave extra with combo offersUpto ₹3,100 Off on Exchange\n",
      "Add to CompareTCL S5500AF 79.97 cm (32 inch) Full HD LED Smart Android TV 2024 Edition with Metallic Bezel Less and ...4.116,139 Ratings & 1,487 ReviewsOperating System: AndroidFull HD 1920 x 1080 PixelsLaunch Year: 20241 Year Warranty₹10,490₹21,99052% offFree deliveryTop Discount of the SaleBank Offer\n",
      "Add to CompareSAMSUNG New D Series Brighter Crystal 4K Vivid (2024 Edition) 108 cm (43 inch) Ultra HD (4K) LED Smart...4.312,832 Ratings & 970 ReviewsOperating System: TizenUltra HD (4K) 3840 x 2160 PixelsLaunch Year: 20242 Year Warranty (1 Year Standard Warranty + 1 Year additional warranty on Panel)₹28,490₹44,90036% offFree deliverySave extra with combo offersUpto ₹5,100 Off on Exchange\n",
      "Add to CompareMarQ by Flipkart 80 cm (32 inch) HD Ready LED Smart Coolita TV4.25,124 Ratings & 529 ReviewsOperating System: CoolitaHD Ready 1366 x 768 PixelsLaunch Year: 20231 Year Warranty on the Product₹7,499₹21,00064% offFree deliveryTop Discount of the SaleBank Offer\n",
      "Add to CompareSAMSUNG New D Series Brighter Crystal 4K Vision Pro (2024 Edition) 138 cm (55 inch) Ultra HD (4K) LED ...4.328,371 Ratings & 2,474 ReviewsOperating System: TizenUltra HD (4K) 3840 x 2160 PixelsLaunch Year: 20242 Year Warranty (1 Year Standard Warranty + 1 Year additional warranty on Panel)₹42,490₹66,90036% offFree deliveryTop Discount of the SaleUpto ₹6,100 Off on Exchange\n",
      "Add to CompareTCL C69B 139 cm (55 inch) QLED Ultra HD (4K) Smart Google TV with Dolby Atmos 35W, ONKYO 2.1ch with Su...4.23,401 Ratings & 419 ReviewsOperating System: Google TVUltra HD (4K) 3840 x 2160 PixelsLaunch Year: 20242 Years Comprehensive Warranty on Product₹36,990₹1,20,99069% offFree deliveryLowest price since launchUpto ₹5,600 Off on Exchange\n",
      "Add to CompareAdmiral 108 cm (43 inch) Ultra HD (4K) LED Smart Google TV 2024 Edition4.3108 Ratings & 17 ReviewsOperating System: Google TVUltra HD (4K) 3840 x 2160 PixelsLaunch Year: 20243 Years Warranty on product₹19,999₹31,19935% offFree deliveryTop Discount of the SaleUpto ₹3,100 Off on Exchange\n",
      "Add to CompareLG 32LQBPTA 80 cm (32 inch) HD Ready LED Smart WebOS TV with Alpha5 Gen5 AI Processor, ThinQ AI, AI So...4.317,107 Ratings & 1,233 ReviewsOperating System: WebOSHD Ready 1366 x 768 PixelsLaunch Year: 20231 Year Product Warranty Applicable₹14,990₹19,99025% offFree deliverySave extra with combo offersBank Offer\n",
      "Add to CompareCoocaa 80 cm (32 inch) HD Ready LED Smart Coolita TV 2024 Edition with Dolby Audio and Eye Care Techno...4.221,527 Ratings & 2,658 ReviewsOperating System: CoolitaHD Ready 1366 x 768 PixelsLaunch Year: 20241 Year Warranty on Product₹7,699₹19,99061% offFree deliveryTop Discount of the SaleBank Offer\n",
      "Add to CompareThomson FA Series 108 cm (43 inch) Full HD LED Smart Android TV with Dolby Digital Plus & Android 114.31,18,081 Ratings & 21,227 ReviewsOperating System: AndroidFull HD 1080 x 1920 PixelsLaunch Year: 20231 Year Warranty on Product and 6 Months Warranty on Accessories₹15,249₹29,99949% offFree deliverySave extra with combo offersUpto ₹3,100 Off on Exchange\n",
      "Add to CompareTCL C69B 108 cm (43 inch) QLED Ultra HD (4K) Smart Google TV with 30W Dolby Atmos4.23,401 Ratings & 419 ReviewsOperating System: Google TVUltra HD (4K) 3840 x 2160 PixelsLaunch Year: 20242 Years Comprehensive Warranty on Product₹26,990₹60,99055% offFree deliveryLowest price since launchUpto ₹5,100 Off on Exchange\n",
      "Add to CompareiFFALCON by TCL U64 139 cm (55 inch) Ultra HD (4K) LED Smart Google TV with 24W Dolby Audio, HDR104.263,216 Ratings & 7,249 ReviewsOperating System: Google TVUltra HD (4K) 3840 x 2160 PixelsLaunch Year: 20241 Year Warranty on Product₹25,999₹73,99064% offFree deliveryTop Discount of the SaleUpto ₹5,100 Off on Exchange\n",
      "Add to CompareHUIDI 80 cm (32 Inch) HD Ready LED Smart Android Based TV 2024 Edition with With Game Mode4780 Ratings & 84 ReviewsOperating System: Android BasedHD Ready 1366 x 768 PixelsLaunch Year: 20241 Year Warranty₹6,999₹18,99963% offFree deliveryTop Discount of the SaleBank Offer\n",
      "Page 1 of 5112345678910Next\n",
      "Did you find what you were looking for?YesNo\n",
      "Reviews for Popular Televisions1. HUIDI 80 cm (32 Inch) HD Re...4780 Ratings&84 Reviews₹6,99963% offOperating System: Android BasedHD Ready 1366 x 768 PixelsLaunch Year: 2024Most Helpful Review4Pretty goodEXCELLENT VERY NICE PRODUCTSRead full reviewTauseefCertified BuyerApr, 2023Recent Review4Wonderfulnice product,, value for monRead full reviewNarayan  SahooCertified Buyer8 days ago2. Infinix 81 cm (32 inch) HD ...4.245,662 Ratings&4,943 Reviews₹8,09952% offOperating System: LinuxHD Ready 1366 x 768 PixelsLaunch Year: 2024Most Helpful Review5TerrificThanks for the product at this price. Value for money.Read full reviewFlipkart CustomerCertified BuyerJan, 2023Recent Review4DelightfulTime changes issues again and again while swith on  and i have to set time again and again then enter password again what the issueRead full reviewAdil NaajCertified Buyer1 day ago3. Coocaa 80 cm (32 inch) HD R...4.221,527 Ratings&2,658 Reviews₹7,69961% offOperating System: CoolitaHD Ready 1366 x 768 PixelsLaunch Year: 2024Most Helpful Review5WonderfulHi Guys, this is an amazing item.Pros:Picture: Excellent Picture quality for the price paid. It is written HD READY but believe me you can play 1080p seaml...Read full reviewFlipkart CustomerCertified BuyerOct, 2021Recent Review2Expected a better productWastage of money  please don't buy this product.Read full reviewPriyanka YadavCertified Buyer6 days ago4. SAMSUNG New D Series Bright...4.312,832 Ratings&970 Reviews₹28,49036% offOperating System: TizenUltra HD (4K) 3840 x 2160 PixelsLaunch Year: 2024Most Helpful Review5Perfect product!Excellent Picture QualityRead full reviewavinash kumarCertified Buyer6 months agoRecent Review5Super!Good product i amm so happy hRead full reviewFlipkart CustomerCertified Buyer1 day ago5. Thomson Phoenix 80 cm (32 i...4.519,150 Ratings&3,662 Reviews₹9,49952% offOperating System: AndroidHD Ready 1366x768 PixelsLaunch Year: 2024Most Helpful Review4Good choiceThe TV is fine! Good picture clarity! Colours are good!! Easy accessible!! The one drawback I faced is mobile to tv screen sharing which isn't accessible! If...Read full reviewFlipkart CustomerCertified Buyer6 months agoRecent Review5WonderfulIt's a valuable for money productRead full reviewramavtar gurjarCertified BuyerToday\n",
      "\n"
     ]
    }
   ],
   "source": [
    "from selenium import webdriver\n",
    "from selenium.webdriver.chrome.service import Service\n",
    "from selenium.webdriver.common.by import By\n",
    "from bs4 import BeautifulSoup as bs\n",
    "\n",
    "# Set up Selenium (path to chromedriver)\n",
    "chrome_driver_path = \"C:\\chromedriver-win64\\chromedriver-win64\\chromedriver.exe\"  \n",
    "service = Service(chrome_driver_path)\n",
    "driver = webdriver.Chrome(service=service)\n",
    "\n",
    "# Load the Flipkart webpage\n",
    "flipkart_url = \"https://www.flipkart.com/search?q=tv\"\n",
    "driver.get(flipkart_url)\n",
    "\n",
    "# Wait for the page to load completely\n",
    "driver.implicitly_wait(10)\n",
    "\n",
    "# Get the page source after the content is fully loaded\n",
    "page_source = driver.page_source\n",
    "\n",
    "# Parse the page source using BeautifulSoup\n",
    "flipkart_html = bs(page_source, \"html.parser\")\n",
    "\n",
    "# Example: Find product containers (you need to inspect the exact element structure for the products)\n",
    "items = flipkart_html.find_all(\"div\", {\"class\": \"cPHDOP col-12-12\"})\n",
    "\n",
    "# Print the result or extract specific information\n",
    "for item in items:\n",
    "    print(item.text)\n",
    "\n",
    "# Close the browser after scraping\n",
    "driver.quit()\n"
   ]
  },
  {
   "cell_type": "code",
   "execution_count": 13,
   "id": "76c7c640",
   "metadata": {},
   "outputs": [
    {
     "data": {
      "text/plain": [
       "30"
      ]
     },
     "execution_count": 13,
     "metadata": {},
     "output_type": "execute_result"
    }
   ],
   "source": [
    "len(items)"
   ]
  },
  {
   "cell_type": "code",
   "execution_count": 14,
   "id": "a58a834d",
   "metadata": {},
   "outputs": [],
   "source": [
    "# among these 30 items, the first 2 are nav bars etc, so we need to skip them\n",
    "#  so to be on safer side, delete the first 3 items\n",
    "# items = items[3:]\n",
    "del items[0:3]"
   ]
  },
  {
   "cell_type": "code",
   "execution_count": 15,
   "id": "3bca4696",
   "metadata": {},
   "outputs": [
    {
     "data": {
      "text/plain": [
       "<a class=\"CGtC98\" href=\"/thomson-phoenix-80-cm-32-inch-qled-hd-ready-smart-android-tv-48w-sound-output/p/itm83f6f4aa54a87?pid=TVSH2YXQGJZZ8JGW&amp;lid=LSTTVSH2YXQGJZZ8JGW6SOCDX&amp;marketplace=FLIPKART&amp;q=tv&amp;store=ckf%2Fczl&amp;srno=s_1_2&amp;otracker=search&amp;iid=en_FXSNKhBWjuAakTjqh0aBNOz8g8kTF0FAPecaks_hjIgG7y2v749hyIEEa-I6mCnrq2PhC9JiQdKb3-LBf1-e9Q%3D%3D&amp;ssid=hnec3j2ik00000001727885204064&amp;qH=c9a1fdac6e082dd8\" rel=\"noopener noreferrer\" target=\"_blank\"><div class=\"Otbq5D\" data-tkid=\"ADVIEW_en_FXSNKhBWjuAakTjqh0aBNOz8g8kTF0FAPecaks_hjIgG7y2v749hyIEEa-I6mCnrq2PhC9JiQdKb3-LBf1-e9Q==\"><div class=\"yPq5Io\"><div><div class=\"_4WELSP\" style=\"height: 200px; width: 200px;\"><img alt=\"Thomson Phoenix 80 cm (32 inch) QLED HD Ready Smart Android TV 48W Sound Output\" class=\"DByuf4\" loading=\"eager\" src=\"https://rukminim2.flixcart.com/image/312/312/xif0q/television/t/0/y/-original-imah4ndscut9bhgf.jpeg?q=70\"/></div></div></div><div class=\"qaR90o\"><div class=\"A8uQAd\"><span class=\"Lni97G\"><label class=\"tJjCVx\"><input class=\"vn9L2C\" readonly=\"\" type=\"checkbox\"/><div class=\"XqNaEv\"></div></label></span><label class=\"uu79Xy\"><span>Add to Compare</span></label></div></div><div class=\"oUss6M ssUU08\"><div class=\"+7E521\"><svg class=\"N1bADF\" height=\"16\" viewbox=\"0 0 20 16\" width=\"16\" xmlns=\"http://www.w3.org/2000/svg\"><path class=\"x1UMqG\" d=\"M8.695 16.682C4.06 12.382 1 9.536 1 6.065 1 3.219 3.178 1 5.95 1c1.566 0 3.069.746 4.05 1.915C10.981 1.745 12.484 1 14.05 1 16.822 1 19 3.22 19 6.065c0 3.471-3.06 6.316-7.695 10.617L10 17.897l-1.305-1.215z\" fill=\"#2874F0\" fill-rule=\"evenodd\" opacity=\".9\" stroke=\"#FFF\"></path></svg></div></div></div><div class=\"yKfJKb row\"><div class=\"col col-7-12\"><div class=\"f8qK5m\"><svg class=\"\" height=\"18\" width=\"62\" xmlns=\"http://www.w3.org/2000/svg\"><rect fill=\"white\" height=\"18\" width=\"62\"></rect><path d=\"M5.82955 6.45455C5.77841 6.02273 5.57102 5.6875 5.20739 5.44886C4.84375 5.21023 4.39773 5.09091 3.86932 5.09091C3.48295 5.09091 3.14489 5.15341 2.85511 5.27841C2.56818 5.40341 2.34375 5.57528 2.18182 5.79403C2.02273 6.01278 1.94318 6.26136 1.94318 6.53977C1.94318 6.77273 1.99858 6.97301 2.10938 7.14062C2.22301 7.3054 2.3679 7.44318 2.54403 7.55398C2.72017 7.66193 2.90483 7.75142 3.09801 7.82244C3.29119 7.89062 3.46875 7.94602 3.63068 7.98864L4.51705 8.22727C4.74432 8.28693 4.99716 8.36932 5.27557 8.47443C5.55682 8.57955 5.82528 8.72301 6.08097 8.90483C6.33949 9.08381 6.55256 9.31392 6.72017 9.59517C6.88778 9.87642 6.97159 10.2216 6.97159 10.6307C6.97159 11.1023 6.84801 11.5284 6.60085 11.9091C6.35653 12.2898 5.99858 12.5923 5.52699 12.8168C5.05824 13.0412 4.48864 13.1534 3.81818 13.1534C3.19318 13.1534 2.65199 13.0526 2.1946 12.8509C1.74006 12.6491 1.3821 12.3679 1.12074 12.0071C0.862216 11.6463 0.715909 11.2273 0.681818 10.75H1.77273C1.80114 11.0795 1.91193 11.3523 2.10511 11.5682C2.30114 11.7812 2.5483 11.9403 2.84659 12.0455C3.14773 12.1477 3.47159 12.1989 3.81818 12.1989C4.22159 12.1989 4.58381 12.1335 4.90483 12.0028C5.22585 11.8693 5.48011 11.6847 5.66761 11.4489C5.85511 11.2102 5.94886 10.9318 5.94886 10.6136C5.94886 10.3239 5.8679 10.0881 5.70597 9.90625C5.54403 9.72443 5.33097 9.5767 5.06676 9.46307C4.80256 9.34943 4.51705 9.25 4.21023 9.16477L3.13636 8.85795C2.45455 8.66193 1.91477 8.3821 1.51705 8.01847C1.11932 7.65483 0.920455 7.17898 0.920455 6.59091C0.920455 6.10227 1.05256 5.67614 1.31676 5.3125C1.58381 4.94602 1.94176 4.66193 2.39062 4.46023C2.84233 4.25568 3.34659 4.15341 3.90341 4.15341C4.46591 4.15341 4.96591 4.25426 5.40341 4.45597C5.84091 4.65483 6.1875 4.92756 6.44318 5.27415C6.7017 5.62074 6.83807 6.0142 6.85227 6.45455H5.82955ZM8.5728 15.4545V6.45455H9.54439V7.49432H9.66371C9.73757 7.38068 9.83984 7.2358 9.97053 7.05966C10.104 6.88068 10.2944 6.72159 10.5415 6.58239C10.7915 6.44034 11.1296 6.36932 11.5558 6.36932C12.1069 6.36932 12.5927 6.5071 13.0131 6.78267C13.4336 7.05824 13.7617 7.44886 13.9975 7.95455C14.2333 8.46023 14.3512 9.05682 14.3512 9.74432C14.3512 10.4375 14.2333 11.0384 13.9975 11.5469C13.7617 12.0526 13.435 12.4446 13.0174 12.723C12.5998 12.9986 12.1183 13.1364 11.5728 13.1364C11.1523 13.1364 10.8157 13.0668 10.5629 12.9276C10.31 12.7855 10.1154 12.625 9.97905 12.446C9.84268 12.2642 9.73757 12.1136 9.66371 11.9943H9.57848V15.4545H8.5728ZM9.56143 9.72727C9.56143 10.2216 9.63388 10.6577 9.77876 11.0355C9.92365 11.4105 10.1353 11.7045 10.4137 11.9176C10.6921 12.1278 11.033 12.233 11.4364 12.233C11.8569 12.233 12.2077 12.1222 12.489 11.9006C12.7731 11.6761 12.9862 11.375 13.1282 10.9972C13.2731 10.6165 13.3455 10.1932 13.3455 9.72727C13.3455 9.26705 13.2745 8.85227 13.1325 8.48295C12.9933 8.1108 12.7816 7.81676 12.4975 7.60085C12.2163 7.3821 11.8626 7.27273 11.4364 7.27273C11.0273 7.27273 10.6836 7.37642 10.4052 7.58381C10.1268 7.78835 9.91655 8.07528 9.7745 8.4446C9.63246 8.81108 9.56143 9.23864 9.56143 9.72727ZM18.5444 13.1364C17.9535 13.1364 17.435 12.9957 16.989 12.7145C16.5458 12.4332 16.1992 12.0398 15.9492 11.5341C15.7021 11.0284 15.5785 10.4375 15.5785 9.76136C15.5785 9.07955 15.7021 8.48437 15.9492 7.97585C16.1992 7.46733 16.5458 7.07244 16.989 6.79119C17.435 6.50994 17.9535 6.36932 18.5444 6.36932C19.1353 6.36932 19.6523 6.50994 20.0955 6.79119C20.5415 7.07244 20.8881 7.46733 21.1353 7.97585C21.3853 8.48437 21.5103 9.07955 21.5103 9.76136C21.5103 10.4375 21.3853 11.0284 21.1353 11.5341C20.8881 12.0398 20.5415 12.4332 20.0955 12.7145C19.6523 12.9957 19.1353 13.1364 18.5444 13.1364ZM18.5444 12.233C18.9933 12.233 19.3626 12.1179 19.6523 11.8878C19.9421 11.6577 20.1566 11.3551 20.2958 10.9801C20.435 10.6051 20.5046 10.1989 20.5046 9.76136C20.5046 9.32386 20.435 8.91619 20.2958 8.53835C20.1566 8.16051 19.9421 7.85511 19.6523 7.62216C19.3626 7.3892 18.9933 7.27273 18.5444 7.27273C18.0955 7.27273 17.7262 7.3892 17.4364 7.62216C17.1467 7.85511 16.9322 8.16051 16.793 8.53835C16.6538 8.91619 16.5842 9.32386 16.5842 9.76136C16.5842 10.1989 16.6538 10.6051 16.793 10.9801C16.9322 11.3551 17.1467 11.6577 17.4364 11.8878C17.7262 12.1179 18.0955 12.233 18.5444 12.233ZM24.0511 9.0625V13H23.0455V6.45455H24.017V7.47727H24.1023C24.2557 7.14489 24.4886 6.87784 24.8011 6.67614C25.1136 6.47159 25.517 6.36932 26.0114 6.36932C26.4545 6.36932 26.8423 6.46023 27.1747 6.64205C27.5071 6.82102 27.7656 7.09375 27.9503 7.46023C28.1349 7.82386 28.2273 8.28409 28.2273 8.84091V13H27.2216V8.90909C27.2216 8.39489 27.0881 7.99432 26.821 7.70739C26.554 7.41761 26.1875 7.27273 25.7216 7.27273C25.4006 7.27273 25.1136 7.34233 24.8608 7.48153C24.6108 7.62074 24.4134 7.82386 24.2685 8.09091C24.1236 8.35795 24.0511 8.68182 24.0511 9.0625ZM34.7013 7.92045L33.7979 8.17614C33.7411 8.02557 33.6573 7.87926 33.5465 7.73722C33.4386 7.59233 33.2908 7.47301 33.1033 7.37926C32.9158 7.28551 32.6758 7.23864 32.3832 7.23864C31.9826 7.23864 31.6488 7.33097 31.3817 7.51562C31.1175 7.69744 30.9854 7.92898 30.9854 8.21023C30.9854 8.46023 31.0763 8.65767 31.2582 8.80256C31.44 8.94744 31.7241 9.06818 32.1104 9.16477L33.082 9.40341C33.6673 9.54545 34.1033 9.76278 34.3903 10.0554C34.6772 10.3452 34.8207 10.7187 34.8207 11.1761C34.8207 11.5511 34.7127 11.8864 34.4968 12.1818C34.2837 12.4773 33.9854 12.7102 33.6019 12.8807C33.2184 13.0511 32.7724 13.1364 32.2638 13.1364C31.5962 13.1364 31.0437 12.9915 30.6062 12.7017C30.1687 12.4119 29.8917 11.9886 29.7752 11.4318L30.7298 11.1932C30.8207 11.5455 30.9925 11.8097 31.2454 11.9858C31.5011 12.1619 31.8349 12.25 32.2468 12.25C32.7156 12.25 33.0877 12.1506 33.3633 11.9517C33.6417 11.75 33.7809 11.5085 33.7809 11.2273C33.7809 11 33.7013 10.8097 33.5423 10.6562C33.3832 10.5 33.1388 10.3835 32.8093 10.3068L31.7184 10.0511C31.119 9.90909 30.6786 9.68892 30.3974 9.39062C30.119 9.08949 29.9798 8.71307 29.9798 8.26136C29.9798 7.89205 30.0835 7.56534 30.2908 7.28125C30.5011 6.99716 30.7866 6.77415 31.1474 6.61222C31.511 6.45028 31.9229 6.36932 32.3832 6.36932C33.0309 6.36932 33.5394 6.51136 33.9087 6.79545C34.2809 7.07955 34.5451 7.45455 34.7013 7.92045ZM38.9936 13.1364C38.4027 13.1364 37.8842 12.9957 37.4382 12.7145C36.995 12.4332 36.6484 12.0398 36.3984 11.5341C36.1513 11.0284 36.0277 10.4375 36.0277 9.76136C36.0277 9.07955 36.1513 8.48437 36.3984 7.97585C36.6484 7.46733 36.995 7.07244 37.4382 6.79119C37.8842 6.50994 38.4027 6.36932 38.9936 6.36932C39.5845 6.36932 40.1016 6.50994 40.5447 6.79119C40.9908 7.07244 41.3374 7.46733 41.5845 7.97585C41.8345 8.48437 41.9595 9.07955 41.9595 9.76136C41.9595 10.4375 41.8345 11.0284 41.5845 11.5341C41.3374 12.0398 40.9908 12.4332 40.5447 12.7145C40.1016 12.9957 39.5845 13.1364 38.9936 13.1364ZM38.9936 12.233C39.4425 12.233 39.8118 12.1179 40.1016 11.8878C40.3913 11.6577 40.6058 11.3551 40.745 10.9801C40.8842 10.6051 40.9538 10.1989 40.9538 9.76136C40.9538 9.32386 40.8842 8.91619 40.745 8.53835C40.6058 8.16051 40.3913 7.85511 40.1016 7.62216C39.8118 7.3892 39.4425 7.27273 38.9936 7.27273C38.5447 7.27273 38.1754 7.3892 37.8857 7.62216C37.5959 7.85511 37.3814 8.16051 37.2422 8.53835C37.103 8.91619 37.0334 9.32386 37.0334 9.76136C37.0334 10.1989 37.103 10.6051 37.2422 10.9801C37.3814 11.3551 37.5959 11.6577 37.8857 11.8878C38.1754 12.1179 38.5447 12.233 38.9936 12.233ZM43.4947 13V6.45455H44.4663V7.44318H44.5344C44.6538 7.11932 44.8697 6.85653 45.1822 6.65483C45.4947 6.45312 45.8469 6.35227 46.239 6.35227C46.3129 6.35227 46.4052 6.35369 46.516 6.35653C46.6268 6.35937 46.7106 6.36364 46.7674 6.36932V7.39205C46.7333 7.38352 46.6552 7.37074 46.533 7.35369C46.4137 7.33381 46.2873 7.32386 46.1538 7.32386C45.8356 7.32386 45.5515 7.39062 45.3015 7.52415C45.0543 7.65483 44.8583 7.83665 44.7134 8.0696C44.5714 8.29972 44.5004 8.5625 44.5004 8.85795V13H43.4947ZM50.5046 13.1364C49.8739 13.1364 49.3299 12.9972 48.8725 12.7188C48.418 12.4375 48.0671 12.0455 47.82 11.5426C47.5756 11.0369 47.4535 10.4489 47.4535 9.77841C47.4535 9.10795 47.5756 8.51705 47.82 8.00568C48.0671 7.49148 48.4109 7.09091 48.8512 6.80398C49.2944 6.5142 49.8114 6.36932 50.4023 6.36932C50.7433 6.36932 51.0799 6.42614 51.4123 6.53977C51.7447 6.65341 52.0472 6.83807 52.32 7.09375C52.5927 7.34659 52.81 7.68182 52.9719 8.09943C53.1339 8.51705 53.2148 9.03125 53.2148 9.64205V10.0682H48.1694V9.19886H52.1921C52.1921 8.82955 52.1183 8.5 51.9705 8.21023C51.8256 7.92045 51.6183 7.69176 51.3484 7.52415C51.0813 7.35653 50.766 7.27273 50.4023 7.27273C50.0018 7.27273 49.6552 7.37216 49.3626 7.57102C49.0728 7.76705 48.8498 8.02273 48.6935 8.33807C48.5373 8.65341 48.4592 8.99148 48.4592 9.35227V9.93182C48.4592 10.4261 48.5444 10.8452 48.7148 11.1889C48.8881 11.5298 49.1282 11.7898 49.435 11.9688C49.7418 12.1449 50.0984 12.233 50.5046 12.233C50.7688 12.233 51.0075 12.196 51.2205 12.1222C51.4364 12.0455 51.6225 11.9318 51.7788 11.7812C51.935 11.6278 52.0558 11.4375 52.141 11.2102L53.1126 11.483C53.0103 11.8125 52.8384 12.1023 52.5969 12.3523C52.3555 12.5994 52.0572 12.7926 51.7021 12.9318C51.3469 13.0682 50.9478 13.1364 50.5046 13.1364ZM57.2163 13.1364C56.6708 13.1364 56.1893 12.9986 55.7717 12.723C55.354 12.4446 55.0273 12.0526 54.7915 11.5469C54.5558 11.0384 54.4379 10.4375 54.4379 9.74432C54.4379 9.05682 54.5558 8.46023 54.7915 7.95455C55.0273 7.44886 55.3555 7.05824 55.7759 6.78267C56.1964 6.5071 56.6822 6.36932 57.2333 6.36932C57.6594 6.36932 57.9961 6.44034 58.2433 6.58239C58.4933 6.72159 58.6836 6.88068 58.8143 7.05966C58.9478 7.2358 59.0515 7.38068 59.1254 7.49432H59.2106V4.27273H60.2163V13H59.2447V11.9943H59.1254C59.0515 12.1136 58.9464 12.2642 58.81 12.446C58.6737 12.625 58.479 12.7855 58.2262 12.9276C57.9734 13.0668 57.6367 13.1364 57.2163 13.1364ZM57.3526 12.233C57.756 12.233 58.0969 12.1278 58.3754 11.9176C58.6538 11.7045 58.8654 11.4105 59.0103 11.0355C59.1552 10.6577 59.2276 10.2216 59.2276 9.72727C59.2276 9.23864 59.1566 8.81108 59.0146 8.4446C58.8725 8.07528 58.6623 7.78835 58.3839 7.58381C58.1055 7.37642 57.7617 7.27273 57.3526 7.27273C56.9265 7.27273 56.5714 7.3821 56.2873 7.60085C56.006 7.81676 55.7944 8.1108 55.6523 8.48295C55.5131 8.85227 55.4435 9.26705 55.4435 9.72727C55.4435 10.1932 55.5146 10.6165 55.6566 10.9972C55.8015 11.375 56.0146 11.6761 56.2958 11.9006C56.5799 12.1222 56.9322 12.233 57.3526 12.233Z\" fill=\"#9E9E9E\"></path></svg></div><div class=\"KzDlHZ\">Thomson Phoenix 80 cm (32 inch) QLED HD Ready Smart Android TV 48W Sound Output</div><div class=\"_5OesEi\"><span class=\"Y1HWO0\" id=\"productRating_LSTTVSH2YXQGJZZ8JGW6SOCDX_TVSH2YXQGJZZ8JGW_\"><div class=\"XQDdHH\">4.5<img class=\"Rza2QY\" src=\"data:image/svg+xml;base64,PHN2ZyB4bWxucz0iaHR0cDovL3d3dy53My5vcmcvMjAwMC9zdmciIHdpZHRoPSIxMyIgaGVpZ2h0PSIxMiI+PHBhdGggZmlsbD0iI0ZGRiIgZD0iTTYuNSA5LjQzOWwtMy42NzQgMi4yMy45NC00LjI2LTMuMjEtMi44ODMgNC4yNTQtLjQwNEw2LjUuMTEybDEuNjkgNC4wMSA0LjI1NC40MDQtMy4yMSAyLjg4Mi45NCA0LjI2eiIvPjwvc3ZnPg==\"/></div></span><span class=\"Wphh3N\"><span><span>19,150 Ratings </span><span class=\"hG7V+4\">&amp;</span><span> 3,662 Reviews</span></span></span></div><div class=\"_6NESgJ\"><ul class=\"G4BRas\"><li class=\"J+igdf\">Operating System: Android</li><li class=\"J+igdf\">HD Ready 1366x768 Pixels</li><li class=\"J+igdf\">Launch Year: 2024</li><li class=\"J+igdf\">1 Year Warranty on Product &amp; 6 Months Warranty on Accessories</li></ul></div></div><div class=\"col col-5-12 BfVC2z\"><div class=\"cN1yYO\"><div class=\"hl05eU\"><div class=\"Nx9bqj _4b5DiR\">₹9,499</div><div class=\"yRaY8j ZYYwLA\">₹19,999</div><div class=\"UkUFwK\"><span>52% off</span></div></div><div class=\"k6cAZE dlFt9U\"><div><div class=\"yiggsN\" style=\"color: rgb(0, 0, 0); font-size: 12px; font-weight: 400;\">Free delivery</div></div></div></div><div class=\"_0CSTHy\"><img height=\"21\" src=\"//static-assets-web.flixcart.com/fk-p-linchpin-web/fk-cp-zion/img/fa_62673a.png\"/></div><div class=\"M4DNwV\"><div class=\"n5vj9c\" style=\"padding: 4px; border-radius: 2px; background-color: rgb(231, 248, 236);\"><div class=\"yiggsN O5Fpg8\" style=\"color: rgb(38, 165, 65); font-size: 12px; font-weight: 700;\">Lowest price since launch</div></div></div><div class=\"M4DNwV\"><div class=\"n5vj9c\"><div class=\"yiggsN O5Fpg8\" style=\"color: rgb(0, 0, 0); font-size: 14px; font-style: normal; font-weight: 400;\">Upto </div><div class=\"yiggsN O5Fpg8\" style=\"color: rgb(0, 0, 0); font-size: 14px; font-style: normal; font-weight: 700;\">₹3,100</div><div class=\"yiggsN O5Fpg8\" style=\"color: rgb(0, 0, 0); font-size: 14px; font-style: normal; font-weight: 400;\"> Off on Exchange</div></div></div></div></div></a>"
      ]
     },
     "execution_count": 15,
     "metadata": {},
     "output_type": "execute_result"
    }
   ],
   "source": [
    "# to reach the href link of one time we need to traverse through 3 <div> tags then we reach the <a> tag\n",
    "items[0].div.div.div.a\n",
    "#  we get - href=\"/thomson-pho...\n",
    "# note that this is not the complete link, we need to append the base url to this link to get the complete link\n",
    "# also the div traversing is different according to the structure of the page, so we need to check the structure of the page using html inspector"
   ]
  },
  {
   "cell_type": "code",
   "execution_count": 16,
   "id": "a2e4151c",
   "metadata": {},
   "outputs": [
    {
     "data": {
      "text/plain": [
       "'/thomson-phoenix-80-cm-32-inch-qled-hd-ready-smart-android-tv-48w-sound-output/p/itm83f6f4aa54a87?pid=TVSH2YXQGJZZ8JGW&lid=LSTTVSH2YXQGJZZ8JGW6SOCDX&marketplace=FLIPKART&q=tv&store=ckf%2Fczl&srno=s_1_2&otracker=search&iid=en_FXSNKhBWjuAakTjqh0aBNOz8g8kTF0FAPecaks_hjIgG7y2v749hyIEEa-I6mCnrq2PhC9JiQdKb3-LBf1-e9Q%3D%3D&ssid=hnec3j2ik00000001727885204064&qH=c9a1fdac6e082dd8'"
      ]
     },
     "execution_count": 16,
     "metadata": {},
     "output_type": "execute_result"
    }
   ],
   "source": [
    "items[0].div.div.div.a['href']"
   ]
  },
  {
   "cell_type": "code",
   "execution_count": 17,
   "id": "661d769f",
   "metadata": {},
   "outputs": [
    {
     "data": {
      "text/plain": [
       "'https://www.flipkart.com/thomson-phoenix-80-cm-32-inch-qled-hd-ready-smart-android-tv-48w-sound-output/p/itm83f6f4aa54a87?pid=TVSH2YXQGJZZ8JGW&lid=LSTTVSH2YXQGJZZ8JGW6SOCDX&marketplace=FLIPKART&q=tv&store=ckf%2Fczl&srno=s_1_2&otracker=search&iid=en_FXSNKhBWjuAakTjqh0aBNOz8g8kTF0FAPecaks_hjIgG7y2v749hyIEEa-I6mCnrq2PhC9JiQdKb3-LBf1-e9Q%3D%3D&ssid=hnec3j2ik00000001727885204064&qH=c9a1fdac6e082dd8'"
      ]
     },
     "execution_count": 17,
     "metadata": {},
     "output_type": "execute_result"
    }
   ],
   "source": [
    "\"https://www.flipkart.com\"+items[0].div.div.div.a['href']\n",
    "# appending the base url to the href link we get the full link to the product"
   ]
  },
  {
   "cell_type": "code",
   "execution_count": 18,
   "id": "a173403e",
   "metadata": {},
   "outputs": [
    {
     "name": "stdout",
     "output_type": "stream",
     "text": [
      "https://www.flipkart.com/thomson-phoenix-80-cm-32-inch-qled-hd-ready-smart-android-tv-48w-sound-output/p/itm83f6f4aa54a87?pid=TVSH2YXQGJZZ8JGW&lid=LSTTVSH2YXQGJZZ8JGW6SOCDX&marketplace=FLIPKART&q=tv&store=ckf%2Fczl&srno=s_1_2&otracker=search&iid=en_FXSNKhBWjuAakTjqh0aBNOz8g8kTF0FAPecaks_hjIgG7y2v749hyIEEa-I6mCnrq2PhC9JiQdKb3-LBf1-e9Q%3D%3D&ssid=hnec3j2ik00000001727885204064&qH=c9a1fdac6e082dd8\n",
      "https://www.flipkart.com/samsung-80-cm-32-inch-hd-ready-led-smart-tizen-tv-bezel-free-design-300-free-channels-purcolor-hyper-real-picture-engine-triple-protection-smartthings-app-support-key-connect-share-hdd-connectshare-usb-2-0/p/itm92cc6d1b1d007?pid=TVSGHY2UZA9YHWQN&lid=LSTTVSGHY2UZA9YHWQNCPAW6M&marketplace=FLIPKART&q=tv&store=ckf%2Fczl&spotlightTagId=BestsellerId_ckf%2Fczl&srno=s_1_3&otracker=search&iid=9f98945a-8f3e-48fb-9c1d-39d44bac4d24.TVSGHY2UZA9YHWQN.SEARCH&ssid=hnec3j2ik00000001727885204064&qH=c9a1fdac6e082dd8\n",
      "https://www.flipkart.com/mi-xiaomi-series-80-cm-32-inch-hd-ready-led-smart-google-tv-2024-200-free-channels-dolby-audio-dts-hd-dts-virtual-x-vivid-picture-engine-dual-band-wi-fi-bluetooth-5-0/p/itmc6af224bca65e?pid=TVSHY9QFREWDZHQP&lid=LSTTVSHY9QFREWDZHQPRTC9YH&marketplace=FLIPKART&q=tv&store=ckf%2Fczl&spotlightTagId=BestsellerId_ckf%2Fczl&srno=s_1_4&otracker=search&iid=9f98945a-8f3e-48fb-9c1d-39d44bac4d24.TVSHY9QFREWDZHQP.SEARCH&ssid=hnec3j2ik00000001727885204064&qH=c9a1fdac6e082dd8\n",
      "https://www.flipkart.com/tcl-v6b-139-cm-55-inch-ultra-hd-4k-led-smart-google-tv-2024-24w-dolby-audio-metallic-bezel-less/p/itm9ee7638cbc059?pid=TVSGZK4GH6FPDYZG&lid=LSTTVSGZK4GH6FPDYZGS4LIVC&marketplace=FLIPKART&q=tv&store=ckf%2Fczl&srno=s_1_5&otracker=search&iid=en_FXSNKhBWjuAakTjqh0aBNOz8g8kTF0FAPecaks_hjIgUZnRerKPzhSq6UOWs6hNmeYMFzinBs6WeNtOU5uFatTRKtQQVWB8eNWYNLe7VuyQ%3D&ssid=hnec3j2ik00000001727885204064&qH=c9a1fdac6e082dd8\n",
      "https://www.flipkart.com/tcl-v6b-164-cm-65-inch-ultra-hd-4k-led-smart-google-tv-2024-24w-dolby-audio-metallic-bezel-less/p/itm86740f6306574?pid=TVSGZK4GKBUCNHWA&lid=LSTTVSGZK4GKBUCNHWAVMXYGS&marketplace=FLIPKART&q=tv&store=ckf%2Fczl&srno=s_1_6&otracker=search&iid=en_FXSNKhBWjuAakTjqh0aBNOz8g8kTF0FAPecaks_hjIhZoy1mWtRKIW9gpHrxym4HdD_-ywB1muPi-vhpcpA6vwaKg8hQxVtMHqLTdaqeDbc%3D&ssid=hnec3j2ik00000001727885204064&qH=c9a1fdac6e082dd8\n",
      "https://www.flipkart.com/tcl-l4b-79-97-cm-32-inch-hd-ready-led-smart-android-tv-2024-metallic-bezel-less-chromecast-built-in/p/itm33a674afc3dba?pid=TVSGZK4KJWSDDNBG&lid=LSTTVSGZK4KJWSDDNBGL1EY0Z&marketplace=FLIPKART&q=tv&store=ckf%2Fczl&srno=s_1_7&otracker=search&iid=9f98945a-8f3e-48fb-9c1d-39d44bac4d24.TVSGZK4KJWSDDNBG.SEARCH&ssid=hnec3j2ik00000001727885204064&qH=c9a1fdac6e082dd8\n",
      "https://www.flipkart.com/lg-32lmbptc-80-cm-32-inch-hd-ready-led-smart-webos-tv-quad-core-processor-active-hdr-60-hz-refresh-rate-dts-virtual-x-dolby-audio/p/itm7e3fb721f4a8d?pid=TVSGC8FKBCFFBFT7&lid=LSTTVSGC8FKBCFFBFT78ATBNW&marketplace=FLIPKART&q=tv&store=ckf%2Fczl&srno=s_1_8&otracker=search&iid=9f98945a-8f3e-48fb-9c1d-39d44bac4d24.TVSGC8FKBCFFBFT7.SEARCH&ssid=hnec3j2ik00000001727885204064&qH=c9a1fdac6e082dd8\n",
      "https://www.flipkart.com/samsung-new-d-series-brighter-crystal-4k-vision-pro-2024-edition-108-cm-43-inch-ultra-hd-4k-led-smart-tizen-tv-upscaling-300-free-channels-multiple-voice-assistance-remote-purcolor-hdr-10-auto-game-mode-q-symphony-knox-security/p/itm8580c5c3990d8?pid=TVSGYWKBKGZZ7FKY&lid=LSTTVSGYWKBKGZZ7FKYGN28O7&marketplace=FLIPKART&q=tv&store=ckf%2Fczl&spotlightTagId=BestsellerId_ckf%2Fczl&srno=s_1_9&otracker=search&iid=9f98945a-8f3e-48fb-9c1d-39d44bac4d24.TVSGYWKBKGZZ7FKY.SEARCH&ssid=hnec3j2ik00000001727885204064&qH=c9a1fdac6e082dd8\n",
      "https://www.flipkart.com/infinix-81-cm-32-inch-hd-ready-led-smart-linux-tv-2024/p/itmdda3b54f96f35?pid=TVSH3AB5YNHVBRBZ&lid=LSTTVSH3AB5YNHVBRBZIL6V02&marketplace=FLIPKART&q=tv&store=ckf%2Fczl&srno=s_1_10&otracker=search&iid=9f98945a-8f3e-48fb-9c1d-39d44bac4d24.TVSH3AB5YNHVBRBZ.SEARCH&ssid=hnec3j2ik00000001727885204064&qH=c9a1fdac6e082dd8\n",
      "https://www.flipkart.com/mi-xiaomi-series-108-cm-43-inch-full-hd-led-smart-google-tv-2024-200-free-channels-dolby-audio-dts-virtual-x-vivid-picture-engine-dual-band-wi-fi-bluetooth-5-0/p/itmdff24537c4f76?pid=TVSH2YSG5HQEPMDP&lid=LSTTVSH2YSG5HQEPMDP02FGB3&marketplace=FLIPKART&q=tv&store=ckf%2Fczl&srno=s_1_11&otracker=search&iid=en_FXSNKhBWjuAakTjqh0aBNOz8g8kTF0FAPecaks_hjIj1qO5lpW1mYcS4-_39ezkdBeZP9OoRC8s_tFf1vJdWSfKSJvID5C-RdFfAlzwDiqI%3D&ssid=hnec3j2ik00000001727885204064&qH=c9a1fdac6e082dd8\n",
      "https://www.flipkart.com/thomson-fa-series-100-cm-40-inch-full-hd-led-smart-android-tv-dolby-digital-plus-11/p/itm7a8a9bc0d4f96?pid=TVSGZ8GQXXD8HQRU&lid=LSTTVSGZ8GQXXD8HQRUMNF2RD&marketplace=FLIPKART&q=tv&store=ckf%2Fczl&srno=s_1_12&otracker=search&iid=en_FXSNKhBWjuAakTjqh0aBNOz8g8kTF0FAPecaks_hjIihBC_plpTdYGygTb1H7a6tSzS0FH3kE0zYEEZAdwmzvOI7uWi7bi3WLqk6JF-UYDE%3D&ssid=hnec3j2ik00000001727885204064&qH=c9a1fdac6e082dd8\n",
      "https://www.flipkart.com/tcl-s5500af-79-97-cm-32-inch-full-hd-led-smart-android-tv-2024-metallic-bezel-less-chromecast-built-in/p/itm61fb1aaf59b23?pid=TVSGZK4KBHZQQJ3G&lid=LSTTVSGZK4KBHZQQJ3GSJC0J5&marketplace=FLIPKART&q=tv&store=ckf%2Fczl&srno=s_1_13&otracker=search&iid=9f98945a-8f3e-48fb-9c1d-39d44bac4d24.TVSGZK4KBHZQQJ3G.SEARCH&ssid=hnec3j2ik00000001727885204064&qH=c9a1fdac6e082dd8\n",
      "https://www.flipkart.com/samsung-new-d-series-brighter-crystal-4k-vivid-2024-edition-108-cm-43-inch-ultra-hd-4k-led-smart-tizen-tv-upscaling-300-free-channels-purcolor-auto-game-mode-q-symphony-voice-ready-knox-security/p/itm0814962688d12?pid=TVSGYWKBHZW56DSB&lid=LSTTVSGYWKBHZW56DSB5EFHWV&marketplace=FLIPKART&q=tv&store=ckf%2Fczl&srno=s_1_14&otracker=search&iid=9f98945a-8f3e-48fb-9c1d-39d44bac4d24.TVSGYWKBHZW56DSB.SEARCH&ssid=hnec3j2ik00000001727885204064&qH=c9a1fdac6e082dd8\n",
      "https://www.flipkart.com/marq-flipkart-80-cm-32-inch-hd-ready-led-smart-coolita-tv/p/itm7ae0cc4128a8c?pid=TVSGQTE6UPCYTDHQ&lid=LSTTVSGQTE6UPCYTDHQ2IYTQS&marketplace=FLIPKART&q=tv&store=ckf%2Fczl&srno=s_1_15&otracker=search&iid=9f98945a-8f3e-48fb-9c1d-39d44bac4d24.TVSGQTE6UPCYTDHQ.SEARCH&ssid=hnec3j2ik00000001727885204064&qH=c9a1fdac6e082dd8\n",
      "https://www.flipkart.com/samsung-new-d-series-brighter-crystal-4k-vision-pro-2024-edition-138-cm-55-inch-ultra-hd-4k-led-smart-tizen-tv-upscaling-300-free-channels-multiple-voice-assistance-remote-purcolor-hdr-10-auto-game-mode-q-symphony-knox-security/p/itm3c1f71392e490?pid=TVSGYWKBJHNSRN9N&lid=LSTTVSGYWKBJHNSRN9NMQXR3A&marketplace=FLIPKART&q=tv&store=ckf%2Fczl&srno=s_1_16&otracker=search&iid=9f98945a-8f3e-48fb-9c1d-39d44bac4d24.TVSGYWKBJHNSRN9N.SEARCH&ssid=hnec3j2ik00000001727885204064&qH=c9a1fdac6e082dd8\n",
      "https://www.flipkart.com/tcl-c69b-139-cm-55-inch-qled-ultra-hd-4k-smart-google-tv-dolby-atmos-35w-onkyo-2-1ch-subwoofer/p/itmdfca96c675d49?pid=TVSGZK4GPFF6GMTS&lid=LSTTVSGZK4GPFF6GMTSWXZFKS&marketplace=FLIPKART&q=tv&store=ckf%2Fczl&srno=s_1_17&otracker=search&iid=en_FXSNKhBWjuAakTjqh0aBNOz8g8kTF0FAPecaks_hjIjDBPBNZ4Jfpui2WUhBdnnJk2Wz46HR4ifD05KP1ZQAgisp2Pb6ljaD52iOeV1GD4o%3D&ssid=hnec3j2ik00000001727885204064&qH=c9a1fdac6e082dd8\n",
      "https://www.flipkart.com/admiral-108-cm-43-inch-ultra-hd-4k-led-smart-google-tv-2024/p/itm5f2ed93ea8caf?pid=TVSGZEMZZ5QYEHGH&lid=LSTTVSGZEMZZ5QYEHGHIS0OYG&marketplace=FLIPKART&q=tv&store=ckf%2Fczl&srno=s_1_18&otracker=search&iid=en_FXSNKhBWjuAakTjqh0aBNOz8g8kTF0FAPecaks_hjIiX0ytoOJrU0JpQmUryWzqHCCyn9HQoVqD4wFihJysl7SqhaHrzSI4OjvZa1DRoeKc%3D&ssid=hnec3j2ik00000001727885204064&qH=c9a1fdac6e082dd8\n",
      "https://www.flipkart.com/lg-32lqbpta-80-cm-32-inch-hd-ready-led-smart-webos-tv-alpha5-gen5-ai-processor-thinq-ai-sound-acoustic-tuning-60-hz-refresh-rate-hdr10-game-optimizer-magic-remote-control-ready/p/itme1e5e339f17c0?pid=TVSGS8GYDQXWP8QX&lid=LSTTVSGS8GYDQXWP8QX2GXHQP&marketplace=FLIPKART&q=tv&store=ckf%2Fczl&srno=s_1_19&otracker=search&iid=9f98945a-8f3e-48fb-9c1d-39d44bac4d24.TVSGS8GYDQXWP8QX.SEARCH&ssid=hnec3j2ik00000001727885204064&qH=c9a1fdac6e082dd8\n",
      "https://www.flipkart.com/coocaa-80-cm-32-inch-hd-ready-led-smart-coolita-tv-2024-dolby-audio-eye-care-technology/p/itmb2c52db67f2f2?pid=TVSHYFZQJ2DD7Z4N&lid=LSTTVSHYFZQJ2DD7Z4NRMSO4N&marketplace=FLIPKART&q=tv&store=ckf%2Fczl&srno=s_1_20&otracker=search&iid=9f98945a-8f3e-48fb-9c1d-39d44bac4d24.TVSHYFZQJ2DD7Z4N.SEARCH&ssid=hnec3j2ik00000001727885204064&qH=c9a1fdac6e082dd8\n",
      "https://www.flipkart.com/thomson-fa-series-108-cm-43-inch-full-hd-led-smart-android-tv-dolby-digital-plus-11/p/itm75d525f0dae3c?pid=TVSGZ8GQDGNYHDPR&lid=LSTTVSGZ8GQDGNYHDPRQLWMGK&marketplace=FLIPKART&q=tv&store=ckf%2Fczl&srno=s_1_21&otracker=search&iid=en_FXSNKhBWjuAakTjqh0aBNOz8g8kTF0FAPecaks_hjIgrb35LtXZMuNfSZvBMzyW3Zntm6FtalAKxYBN-whNgI4QEIsITtCzc4bHaOMTqL08%3D&ssid=hnec3j2ik00000001727885204064&qH=c9a1fdac6e082dd8\n",
      "https://www.flipkart.com/tcl-c69b-108-cm-43-inch-qled-ultra-hd-4k-smart-google-tv-30w-dolby-atmos/p/itm3d62145557433?pid=TVSGZK4GW2ZP9NZY&lid=LSTTVSGZK4GW2ZP9NZYZPZXDB&marketplace=FLIPKART&q=tv&store=ckf%2Fczl&srno=s_1_22&otracker=search&iid=en_FXSNKhBWjuAakTjqh0aBNOz8g8kTF0FAPecaks_hjIjPygHKuBQ9c6vG1tlPGnxdnhRR93p0cIvavwCNrZpBUXxHajYNyuWOMhuZi0IpbY0%3D&ssid=hnec3j2ik00000001727885204064&qH=c9a1fdac6e082dd8\n",
      "https://www.flipkart.com/iffalcon-tcl-u64-139-cm-55-inch-ultra-hd-4k-led-smart-google-tv-24w-dolby-audio-hdr10/p/itma839a651fa064?pid=TVSGZK4GUDMN2VVU&lid=LSTTVSGZK4GUDMN2VVUT9SDSG&marketplace=FLIPKART&q=tv&store=ckf%2Fczl&srno=s_1_23&otracker=search&iid=9f98945a-8f3e-48fb-9c1d-39d44bac4d24.TVSGZK4GUDMN2VVU.SEARCH&ssid=hnec3j2ik00000001727885204064&qH=c9a1fdac6e082dd8\n",
      "https://www.flipkart.com/huidi-80-cm-32-inch-hd-ready-led-smart-android-based-tv-2024-game-mode/p/itm7ceda6091f61c?pid=TVSGGJRPHYGHXNBM&lid=LSTTVSGGJRPHYGHXNBMDHBON3&marketplace=FLIPKART&q=tv&store=ckf%2Fczl&srno=s_1_24&otracker=search&iid=9f98945a-8f3e-48fb-9c1d-39d44bac4d24.TVSGGJRPHYGHXNBM.SEARCH&ssid=hnec3j2ik00000001727885204064&qH=c9a1fdac6e082dd8\n"
     ]
    },
    {
     "ename": "AttributeError",
     "evalue": "'NoneType' object has no attribute 'a'",
     "output_type": "error",
     "traceback": [
      "\u001b[1;31m---------------------------------------------------------------------------\u001b[0m",
      "\u001b[1;31mAttributeError\u001b[0m                            Traceback (most recent call last)",
      "Cell \u001b[1;32mIn[18], line 2\u001b[0m\n\u001b[0;32m      1\u001b[0m \u001b[38;5;28;01mfor\u001b[39;00m i \u001b[38;5;129;01min\u001b[39;00m items:\n\u001b[1;32m----> 2\u001b[0m     \u001b[38;5;28mprint\u001b[39m(\u001b[38;5;124m\"\u001b[39m\u001b[38;5;124mhttps://www.flipkart.com\u001b[39m\u001b[38;5;124m\"\u001b[39m\u001b[38;5;241m+\u001b[39m \u001b[43mi\u001b[49m\u001b[38;5;241;43m.\u001b[39;49m\u001b[43mdiv\u001b[49m\u001b[38;5;241;43m.\u001b[39;49m\u001b[43mdiv\u001b[49m\u001b[38;5;241;43m.\u001b[39;49m\u001b[43mdiv\u001b[49m\u001b[38;5;241;43m.\u001b[39;49m\u001b[43ma\u001b[49m[\u001b[38;5;124m'\u001b[39m\u001b[38;5;124mhref\u001b[39m\u001b[38;5;124m'\u001b[39m])\n\u001b[0;32m      3\u001b[0m \u001b[38;5;66;03m# now we have the links to all the products, we can now scrap the reviews of the product\u001b[39;00m\n",
      "\u001b[1;31mAttributeError\u001b[0m: 'NoneType' object has no attribute 'a'"
     ]
    }
   ],
   "source": [
    "for i in items:\n",
    "    print(\"https://www.flipkart.com\"+ i.div.div.div.a['href'])\n",
    "# now we have the links to all the products, we can now scrap the reviews of the product"
   ]
  },
  {
   "cell_type": "code",
   "execution_count": 19,
   "id": "191d1c4c",
   "metadata": {},
   "outputs": [
    {
     "data": {
      "text/plain": [
       "'https://www.flipkart.com/thomson-phoenix-80-cm-32-inch-qled-hd-ready-smart-android-tv-48w-sound-output/p/itm83f6f4aa54a87?pid=TVSH2YXQGJZZ8JGW&lid=LSTTVSH2YXQGJZZ8JGW6SOCDX&marketplace=FLIPKART&q=tv&store=ckf%2Fczl&srno=s_1_2&otracker=search&iid=en_FXSNKhBWjuAakTjqh0aBNOz8g8kTF0FAPecaks_hjIgG7y2v749hyIEEa-I6mCnrq2PhC9JiQdKb3-LBf1-e9Q%3D%3D&ssid=hnec3j2ik00000001727885204064&qH=c9a1fdac6e082dd8'"
      ]
     },
     "execution_count": 19,
     "metadata": {},
     "output_type": "execute_result"
    }
   ],
   "source": [
    "product_link=\"https://www.flipkart.com\"+items[0].div.div.div.a['href']\n",
    "product_link"
   ]
  },
  {
   "cell_type": "code",
   "execution_count": 20,
   "id": "def074ed",
   "metadata": {},
   "outputs": [
    {
     "data": {
      "text/plain": [
       "<Response [403]>"
      ]
     },
     "execution_count": 20,
     "metadata": {},
     "output_type": "execute_result"
    }
   ],
   "source": [
    "requests.get(product_link)\n",
    "# response 200 means the link is working, 403 means forbidden, 404 means not found\n",
    "# since it is forbidden, we need to use headers to access the link, we use chrome driver selenium to access the link"
   ]
  },
  {
   "cell_type": "code",
   "execution_count": 21,
   "id": "0772d4dc",
   "metadata": {},
   "outputs": [
    {
     "name": "stdout",
     "output_type": "stream",
     "text": [
      "The TV is fine! Good picture clarity! Colours are good!! Easy accessible!! The one drawback I faced is mobile to tv screen sharing which isn't accessible! If someone from Thomson can support on how to do this, much helpful as I tried all means of screen sharing optionsREAD MORE\n",
      "4\n",
      "Flipkart Customer\n",
      "Sound is good but not excellent. Just connect it with a sound bar, u will see it's full potential. No words for picture quality. It can give a tough competition for sony and samsung due to its QLED technology.Just jaw dropping viewing experience.Viewing angle and anti-glare screen is mind blowing.It can even play  8k video without any frame drops. A must buy product and you won't regret. I don't think sound is an issue. There are a lot of sound devices available in the market. Just plug, play...READ MORE\n",
      "5\n",
      "Atul  Suresh\n",
      "Google assistant not working  ,cannot reach the company service support their call does not connect tried many times don not buy such product.email support also does not reply. Not recomeded to buy third class company.READ MORE\n",
      "5\n",
      "Adesh Meshram\n",
      "Super good productREAD MORE\n",
      "5\n",
      "M veera Suresh\n",
      "After 8 months a review Good Experience and picture quality is really niceREAD MORE\n",
      "4\n",
      "Flipkart Customer\n",
      "So far so good. Only doubt is how long the TV will lasts !!READ MORE\n",
      "4\n",
      "Samrat  Gatla\n",
      "Wonderful qled tv with smart features. Inam using this tv last 3 months.. no lags . Amazing work and 4k resolution is good.. sound is great.READ MORE\n",
      "5\n",
      "SRIDHAR THIRUNAVUKARASU\n",
      "Superb product Thank you flipkartREAD MORE\n",
      "5\n",
      "Dashrath kumar\n",
      "Love this TV with an awesome picture clarity. Excellent pricing with good features . Brought this in Big Billions sale , Value for moneyREAD MORE\n",
      "5\n",
      "Vinodhini V\n",
      "Picture - 10/10Sound - 9/10Connectivity - 9/10Rest everything is great as expected. The picture is great, sound is good for 120 sq ft room . All features are user friendly and operates with ease.READ MORE\n",
      "5\n",
      "Anupam Singh\n"
     ]
    }
   ],
   "source": [
    "from selenium import webdriver\n",
    "from selenium.webdriver.chrome.service import Service\n",
    "from selenium.webdriver.common.by import By\n",
    "from bs4 import BeautifulSoup as bs\n",
    "import time\n",
    "\n",
    "# Set up Selenium (path to chromedriver)\n",
    "chrome_driver_path = \"C:/chromedriver-win64/chromedriver-win64/chromedriver.exe\"  # Update this with your path\n",
    "service = Service(chrome_driver_path)\n",
    "driver = webdriver.Chrome(service=service)\n",
    "\n",
    "# Example: URL of a specific product (replace this with your product link)\n",
    "product_link=\"https://www.flipkart.com\"+items[0].div.div.div.a['href']\n",
    "\n",
    "# product_link = \"https://www.flipkart.com/specific-product-url\"  # Example, replace with a real link\n",
    "driver.get(product_link)\n",
    "\n",
    "# Wait for the page to load completely (adjust this time if needed)\n",
    "time.sleep(5)\n",
    "\n",
    "# Scroll to the reviews section to make sure it's loaded (if necessary)\n",
    "driver.execute_script(\"window.scrollTo(0, document.body.scrollHeight);\")\n",
    "time.sleep(3)  # Allow time for reviews to load after scrolling\n",
    "\n",
    "# Get the page source after the reviews section is loaded\n",
    "page_source = driver.page_source\n",
    "\n",
    "# Parse the page using BeautifulSoup\n",
    "product_html = bs(page_source, \"html.parser\")\n",
    "\n",
    "# Scrape the reviews using the correct class (class name can change, make sure to inspect the element)\n",
    "reviews = product_html.find_all(\"div\", {\"class\": \"ZmyHeo\"})  # Example class for review text\n",
    "ratings = product_html.find_all(\"div\", {\"class\": \"XQDdHH Ga3i8K\"})  # Example class for rating\n",
    "# Extract and print reviews\n",
    "person=product_html.find_all(\"p\",{\"class\":\"_2NsDsF AwS1CA\"})\n",
    "# for review in reviews:\n",
    "#     print(review.text.strip())  # Clean up the review text\n",
    "# for rating in ratings:\n",
    "#     print(rating.text.strip())  # Clean up the rating text\n",
    "# Close the browser after scraping\n",
    "for review,rating,person in zip(reviews,ratings,person):\n",
    "    print(review.text.strip())\n",
    "    print(rating.text.strip())\n",
    "    print(person.text.strip())\n",
    "driver.quit()\n"
   ]
  },
  {
   "cell_type": "code",
   "execution_count": 23,
   "id": "3d207ee8",
   "metadata": {},
   "outputs": [
    {
     "name": "stdout",
     "output_type": "stream",
     "text": [
      "Reviewer Name: Flipkart Customer\n",
      "Rating: 4\n",
      "Review: The TV is fine! Good picture clarity! Colours are good!! Easy accessible!! The one drawback I faced is mobile to tv screen sharing which isn't accessible! If someone from Thomson can support on how to do this, much helpful as I tried all means of screen sharing optionsREAD MORE\n",
      "--------------------------------------------------\n",
      "Reviewer Name: Adesh Meshram\n",
      "Rating: 5\n",
      "Review: Google assistant not working  ,cannot reach the company service support their call does not connect tried many times don not buy such product.email support also does not reply. Not recomeded to buy third class company.READ MORE\n",
      "--------------------------------------------------\n",
      "Reviewer Name: Atul  Suresh\n",
      "Rating: 5\n",
      "Review: Sound is good but not excellent. Just connect it with a sound bar, u will see it's full potential. No words for picture quality. It can give a tough competition for sony and samsung due to its QLED technology.Just jaw dropping viewing experience.Viewing angle and anti-glare screen is mind blowing.It can even play  8k video without any frame drops. A must buy product and you won't regret. I don't think sound is an issue. There are a lot of sound devices available in the market. Just plug, play...READ MORE\n",
      "--------------------------------------------------\n",
      "Reviewer Name: M veera Suresh\n",
      "Rating: 5\n",
      "Review: Super good productREAD MORE\n",
      "--------------------------------------------------\n",
      "Reviewer Name: Flipkart Customer\n",
      "Rating: 4\n",
      "Review: After 8 months a review Good Experience and picture quality is really niceREAD MORE\n",
      "--------------------------------------------------\n",
      "Reviewer Name: Samrat  Gatla\n",
      "Rating: 4\n",
      "Review: So far so good. Only doubt is how long the TV will lasts !!READ MORE\n",
      "--------------------------------------------------\n",
      "Reviewer Name: SRIDHAR THIRUNAVUKARASU\n",
      "Rating: 5\n",
      "Review: Wonderful qled tv with smart features. Inam using this tv last 3 months.. no lags . Amazing work and 4k resolution is good.. sound is great.READ MORE\n",
      "--------------------------------------------------\n",
      "Reviewer Name: Dashrath kumar\n",
      "Rating: 5\n",
      "Review: Superb product Thank you flipkartREAD MORE\n",
      "--------------------------------------------------\n",
      "Reviewer Name: Vinodhini V\n",
      "Rating: 5\n",
      "Review: Love this TV with an awesome picture clarity. Excellent pricing with good features . Brought this in Big Billions sale , Value for moneyREAD MORE\n",
      "--------------------------------------------------\n",
      "Reviewer Name: Anupam Singh\n",
      "Rating: 5\n",
      "Review: Picture - 10/10Sound - 9/10Connectivity - 9/10Rest everything is great as expected. The picture is great, sound is good for 120 sq ft room . All features are user friendly and operates with ease.READ MORE\n",
      "--------------------------------------------------\n"
     ]
    },
    {
     "ename": "AttributeError",
     "evalue": "'NoneType' object has no attribute 'text'",
     "output_type": "error",
     "traceback": [
      "\u001b[1;31m---------------------------------------------------------------------------\u001b[0m",
      "\u001b[1;31mAttributeError\u001b[0m                            Traceback (most recent call last)",
      "Cell \u001b[1;32mIn[23], line 38\u001b[0m\n\u001b[0;32m     35\u001b[0m \u001b[38;5;66;03m# Loop through the reviews and extract details\u001b[39;00m\n\u001b[0;32m     36\u001b[0m \u001b[38;5;28;01mfor\u001b[39;00m box \u001b[38;5;129;01min\u001b[39;00m BigBox:\n\u001b[0;32m     37\u001b[0m     \u001b[38;5;66;03m# Extract the review text\u001b[39;00m\n\u001b[1;32m---> 38\u001b[0m     review_text \u001b[38;5;241m=\u001b[39m \u001b[43mbox\u001b[49m\u001b[38;5;241;43m.\u001b[39;49m\u001b[43mfind\u001b[49m\u001b[43m(\u001b[49m\u001b[38;5;124;43m\"\u001b[39;49m\u001b[38;5;124;43mdiv\u001b[39;49m\u001b[38;5;124;43m\"\u001b[39;49m\u001b[43m,\u001b[49m\u001b[43m \u001b[49m\u001b[43m{\u001b[49m\u001b[38;5;124;43m\"\u001b[39;49m\u001b[38;5;124;43mclass\u001b[39;49m\u001b[38;5;124;43m\"\u001b[39;49m\u001b[43m:\u001b[49m\u001b[43m \u001b[49m\u001b[38;5;124;43m\"\u001b[39;49m\u001b[38;5;124;43mZmyHeo\u001b[39;49m\u001b[38;5;124;43m\"\u001b[39;49m\u001b[43m}\u001b[49m\u001b[43m)\u001b[49m\u001b[38;5;241;43m.\u001b[39;49m\u001b[43mtext\u001b[49m\u001b[38;5;241m.\u001b[39mstrip() \n\u001b[0;32m     39\u001b[0m     \u001b[38;5;66;03m# Extract the reviewer name\u001b[39;00m\n\u001b[0;32m     40\u001b[0m     reviewer_name \u001b[38;5;241m=\u001b[39m box\u001b[38;5;241m.\u001b[39mfind(\u001b[38;5;124m\"\u001b[39m\u001b[38;5;124mp\u001b[39m\u001b[38;5;124m\"\u001b[39m, {\u001b[38;5;124m\"\u001b[39m\u001b[38;5;124mclass\u001b[39m\u001b[38;5;124m\"\u001b[39m: \u001b[38;5;124m\"\u001b[39m\u001b[38;5;124m_2NsDsF AwS1CA\u001b[39m\u001b[38;5;124m\"\u001b[39m})\u001b[38;5;241m.\u001b[39mtext\u001b[38;5;241m.\u001b[39mstrip() \n",
      "\u001b[1;31mAttributeError\u001b[0m: 'NoneType' object has no attribute 'text'"
     ]
    }
   ],
   "source": [
    "# more formatted\n",
    "from selenium import webdriver\n",
    "from selenium.webdriver.chrome.service import Service\n",
    "from selenium.webdriver.common.by import By\n",
    "from bs4 import BeautifulSoup as bs\n",
    "import time\n",
    "\n",
    "# Set up Selenium (path to chromedriver)\n",
    "chrome_driver_path = \"C:/chromedriver-win64/chromedriver-win64/chromedriver.exe\"  # Update this with your path\n",
    "service = Service(chrome_driver_path)\n",
    "driver = webdriver.Chrome(service=service)\n",
    "\n",
    "# Example: URL of a specific product (replace this with your product link)\n",
    "product_link = \"https://www.flipkart.com\" + items[0].div.div.div.a['href']\n",
    "\n",
    "# Open product link\n",
    "driver.get(product_link)\n",
    "\n",
    "# Wait for the page to load completely (adjust this time if needed)\n",
    "time.sleep(5)\n",
    "\n",
    "# Scroll to the reviews section to make sure it's loaded (if necessary)\n",
    "driver.execute_script(\"window.scrollTo(0, document.body.scrollHeight);\")\n",
    "time.sleep(3)  # Allow time for reviews to load after scrolling\n",
    "\n",
    "# Get the page source after the reviews section is loaded\n",
    "page_source = driver.page_source\n",
    "\n",
    "# Parse the page using BeautifulSoup\n",
    "product_html = bs(page_source, \"html.parser\")\n",
    "\n",
    "# Scrape the reviews using the correct class (class name can change, make sure to inspect the element)\n",
    "BigBox = product_html.find_all(\"div\", {\"class\": \"RcXBOT\"})  # Example class for review container\n",
    "\n",
    "# Loop through the reviews and extract details\n",
    "for box in BigBox:\n",
    "    # Extract the review text\n",
    "    review_text = box.find(\"div\", {\"class\": \"ZmyHeo\"}).text.strip() \n",
    "    # Extract the reviewer name\n",
    "    reviewer_name = box.find(\"p\", {\"class\": \"_2NsDsF AwS1CA\"}).text.strip() \n",
    "\n",
    "    # Extract the rating (stored in span inside div)\n",
    "    rating = box.find(\"div\", {\"class\": \"XQDdHH Ga3i8K\"}).text.strip() if box.find(\"div\", {\"class\": \"XQDdHH Ga3i8K\"}) else \"No rating\"\n",
    "    \n",
    "    # Print the extracted information\n",
    "    print(f\"Reviewer Name: {reviewer_name}\")\n",
    "    print(f\"Rating: {rating}\")\n",
    "    print(f\"Review: {review_text}\")\n",
    "    print(\"-\" * 50)\n",
    "\n",
    "# Close the browser after scraping\n",
    "driver.quit()\n"
   ]
  },
  {
   "cell_type": "code",
   "execution_count": null,
   "id": "94d3182e",
   "metadata": {},
   "outputs": [],
   "source": [
    "from selenium import webdriver\n",
    "from selenium.webdriver.chrome.service import Service\n",
    "from selenium.webdriver.common.by import By\n",
    "from bs4 import BeautifulSoup as bs\n",
    "import time\n",
    "\n",
    "# Set up Selenium (path to chromedriver)\n",
    "chrome_driver_path = \"C:/chromedriver-win64/chromedriver-win64/chromedriver.exe\"  # Update this with your path\n",
    "service = Service(chrome_driver_path)\n",
    "driver = webdriver.Chrome(service=service)\n",
    "\n",
    "# Example: URL of a specific product (replace this with your product link)\n",
    "product_link=\"https://www.flipkart.com\"+items[0].div.div.div.a['href']\n",
    "\n",
    "# product_link = \"https://www.flipkart.com/specific-product-url\"  # Example, replace with a real link\n",
    "driver.get(product_link)\n",
    "\n",
    "# Wait for the page to load completely (adjust this time if needed)\n",
    "time.sleep(5)\n",
    "\n",
    "# Scroll to the reviews section to make sure it's loaded (if necessary)\n",
    "driver.execute_script(\"window.scrollTo(0, document.body.scrollHeight);\")\n",
    "time.sleep(3)  # Allow time for reviews to load after scrolling\n",
    "\n",
    "# Get the page source after the reviews section is loaded\n",
    "page_source = driver.page_source\n",
    "\n",
    "# Parse the page using BeautifulSoup\n",
    "product_html = bs(page_source, \"html.parser\")\n",
    "\n",
    "# Scrape the reviews using the correct class (class name can change, make sure to inspect the element)\n",
    "BigBox = product_html.find_all(\"div\", {\"class\": \"RcXBOT\"})  # Example class for review text\n",
    "\n",
    "for box in BigBox:\n",
    "    print(box.text)\n",
    "driver.quit()\n"
   ]
  },
  {
   "cell_type": "markdown",
   "id": "25384af5",
   "metadata": {},
   "source": [
    "> **Note:** The code provided in this notebook is for educational purposes only. It is essential to review the terms of service of the website you intend to scrape and ensure. This Project is done as a part of the Web Scrapper Project in the Data Science Offered by PwSkills(in collaboration with iNeuron)."
   ]
  },
  {
   "cell_type": "markdown",
   "id": "6dbca8d3",
   "metadata": {},
   "source": [
    "## What is Selenium?\n",
    "Selenium is an open-source web automation tool that allows developers to interact with web browsers programmatically. It is primarily used for testing web applications but is also widely used for web scraping dynamic websites where content is loaded asynchronously via JavaScript.\n",
    "\n",
    "### Key Features of Selenium:\n",
    "- **Browser Automation**: Selenium can control web browsers and simulate user interactions like clicks, scrolling, and typing.\n",
    "- **Dynamic Content Handling**: It can handle JavaScript-rendered content, making it suitable for scraping modern websites that load data dynamically.\n",
    "- **Multi-Browser Support**: Selenium supports various browsers, including Chrome, Firefox, and Safari.\n",
    "\n",
    "## What is ChromeDriver?\n",
    "ChromeDriver is a separate executable that Selenium uses to control Google Chrome. It acts as a bridge between Selenium and the Chrome browser, allowing Selenium to send commands to Chrome and receive responses. To use ChromeDriver, it must be downloaded and set up in your environment.\n",
    "\n",
    "### How ChromeDriver Works:\n",
    "1. **Setup**: Install ChromeDriver that matches the version of the Chrome browser installed on your machine.\n",
    "2. **Initialization**: Start a new instance of the Chrome browser via Selenium, using ChromeDriver as the backend.\n",
    "3. **Commands Execution**: Send commands to ChromeDriver using Selenium methods, which interact with the Chrome browser as if a real user were operating it.\n",
    "\n",
    "## How Selenium Helped in This Project\n",
    "Switching to Selenium with ChromeDriver provided the following benefits for the web scraping project:\n",
    "- **Bypassing Restrictions**: Selenium can simulate a real user, which helps bypass restrictions that prevent automated scraping. This allows for successful navigation of the Flipkart website without triggering access blocks.\n",
    "- **Dynamic Loading**: By using Selenium, the scraper can wait for the page to load completely, ensuring that all product reviews are loaded before attempting to scrape data.\n",
    "- **Real User Simulation**: It enables the execution of JavaScript and loading of dynamic elements, ensuring that the data scraped is current and complete.\n",
    "\n",
    "### Steps in the Web Scraping Process with Selenium\n",
    "1. **Setup**: Configure Selenium and ChromeDriver.\n",
    "2. **Open Browser**: Launch the Chrome browser and navigate to the product page on Flipkart.\n",
    "3. **Wait for Page Load**: Allow the page to load fully, including all dynamic content like reviews.\n",
    "4. **Scroll if Needed**: If necessary, scroll the page to ensure all elements are loaded.\n",
    "5. **Extract Page Source**: Capture the HTML content of the fully loaded page.\n",
    "6. **Parse with BeautifulSoup**: Use BeautifulSoup to extract relevant data such as review text, ratings, and reviewer names.\n",
    "7. **Data Handling**: Store or display the scraped data as needed.\n"
   ]
  },
  {
   "cell_type": "markdown",
   "id": "ddee3a58",
   "metadata": {},
   "source": [
    "### Steps Involved:\n",
    "1. **Setup Selenium and WebDriver**: We first configure Selenium to use Chrome WebDriver to control the Chrome browser.\n",
    "2. **Navigate to the Product Page**: Using the product link, Selenium opens the webpage in the Chrome browser.\n",
    "3. **Scroll the Page to Load Reviews**: We use JavaScript to scroll down the page, ensuring that dynamic content such as reviews is fully loaded.\n",
    "4. **Extract the Page Source**: Once the reviews are loaded, we extract the HTML of the entire page for parsing.\n",
    "5. **Parse HTML Using BeautifulSoup**: After extracting the page source, we use BeautifulSoup to parse the HTML and locate specific elements such as review text, reviewer names, and ratings.\n",
    "6. **Extract and Print Reviews**: Finally, we loop through the parsed data to extract and print the relevant details, such as the review text, rating, and reviewer name.\n",
    "\n"
   ]
  }
 ],
 "metadata": {
  "kernelspec": {
   "display_name": "Python 3 (ipykernel)",
   "language": "python",
   "name": "python3"
  },
  "language_info": {
   "codemirror_mode": {
    "name": "ipython",
    "version": 3
   },
   "file_extension": ".py",
   "mimetype": "text/x-python",
   "name": "python",
   "nbconvert_exporter": "python",
   "pygments_lexer": "ipython3",
   "version": "3.9.5"
  }
 },
 "nbformat": 4,
 "nbformat_minor": 5
}
